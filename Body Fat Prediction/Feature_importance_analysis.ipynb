{
 "cells": [
  {
   "cell_type": "code",
   "execution_count": 7,
   "id": "bc8f07d1-d6a9-4315-8215-eaac7ce52811",
   "metadata": {},
   "outputs": [
    {
     "name": "stdout",
     "output_type": "stream",
     "text": [
      "    Feature  Chi-squared Score  Chi-squared p-value  Anova F-score  \\\n",
      "0   BodyFat         806.662190        2.768651e-173     447.691793   \n",
      "2    Weight         392.555788         1.128943e-83      29.593925   \n",
      "6   Abdomen         181.608781         3.365253e-38      83.868389   \n",
      "1       Age         102.539484         2.831942e-21       8.060394   \n",
      "5     Chest          74.627293         2.389146e-15      45.043021   \n",
      "7       Hip          41.631221         1.989127e-08      29.442291   \n",
      "8     Thigh          31.144988         2.859826e-06      22.543959   \n",
      "11   Biceps          16.472571         2.446380e-03      18.657249   \n",
      "9      Knee           8.559177         7.311363e-02      18.054292   \n",
      "4      Neck           8.300257         8.117835e-02      16.673072   \n",
      "12  Forearm           4.203273         3.791943e-01       8.226203   \n",
      "10    Ankle           2.132262         7.114479e-01       4.528019   \n",
      "3    Height           1.213867         8.758102e-01       1.601909   \n",
      "13    Wrist           1.196986         8.785946e-01       6.841633   \n",
      "\n",
      "    Anova p-value  \n",
      "0   7.194823e-112  \n",
      "2    4.098605e-20  \n",
      "6    6.991553e-45  \n",
      "1    4.009342e-06  \n",
      "5    2.206126e-28  \n",
      "7    5.015040e-20  \n",
      "8    6.912848e-16  \n",
      "11   2.050327e-13  \n",
      "9    5.068932e-13  \n",
      "4    4.124027e-12  \n",
      "12   3.041851e-06  \n",
      "10   1.511398e-03  \n",
      "3    1.743950e-01  \n",
      "13   3.080577e-05  \n"
     ]
    }
   ],
   "source": [
    "from sklearn.preprocessing import KBinsDiscretizer\n",
    "from sklearn.feature_selection import chi2, f_classif\n",
    "\n",
    "# Load the dataset \n",
    "data = pd.read_csv(r\"D:\\Mehek\\bodyfat.csv\")\n",
    "\n",
    "# Extract features and target variable\n",
    "X = data.drop(['Density'], axis=1)  # Features\n",
    "y = data['Density']  # Target variable\n",
    "\n",
    "# Discretize the target variable into bins\n",
    "num_bins = 5  # Adjust the number of bins as needed\n",
    "kbins = KBinsDiscretizer(n_bins=num_bins, encode='ordinal', strategy='uniform')\n",
    "y_discrete = kbins.fit_transform(y.values.reshape(-1, 1)).ravel()  # Convert to 1D array\n",
    "\n",
    "# Perform Chi-squared test\n",
    "chi2_scores, p_values_chi2 = chi2(X, y_discrete)\n",
    "\n",
    "# Perform Anova test\n",
    "f_scores, p_values_anova = f_classif(X, y_discrete)\n",
    "\n",
    "# Create DataFrame to store results\n",
    "feature_importance = pd.DataFrame({\n",
    "    'Feature': X.columns,\n",
    "    'Chi-squared Score': chi2_scores,\n",
    "    'Chi-squared p-value': p_values_chi2,\n",
    "    'Anova F-score': f_scores,\n",
    "    'Anova p-value': p_values_anova\n",
    "})\n",
    "\n",
    "# Rank features based on importance\n",
    "feature_importance_ranked = feature_importance.sort_values(by=['Chi-squared Score', 'Anova F-score'], ascending=False)\n",
    "\n",
    "# Display ranked feature importance\n",
    "print(feature_importance_ranked)\n"
   ]
  },
  {
   "cell_type": "code",
   "execution_count": null,
   "id": "667163fc-4756-43ca-a6e3-c2dc7fd88e30",
   "metadata": {},
   "outputs": [],
   "source": []
  }
 ],
 "metadata": {
  "kernelspec": {
   "display_name": "Python 3 (ipykernel)",
   "language": "python",
   "name": "python3"
  },
  "language_info": {
   "codemirror_mode": {
    "name": "ipython",
    "version": 3
   },
   "file_extension": ".py",
   "mimetype": "text/x-python",
   "name": "python",
   "nbconvert_exporter": "python",
   "pygments_lexer": "ipython3",
   "version": "3.11.7"
  }
 },
 "nbformat": 4,
 "nbformat_minor": 5
}
