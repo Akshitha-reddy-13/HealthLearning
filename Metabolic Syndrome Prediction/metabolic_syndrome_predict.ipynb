{
 "cells": [
  {
   "cell_type": "markdown",
   "metadata": {},
   "source": [
    "# Metabolic Syndrome Prediction | 1. Dataset Exploration\n",
    "\n",
    "-> Load the dataset\n",
    "\n",
    "-> Explore and confirm features and label(s) of this dataset\n",
    "\n",
    "-> Explore size/shape of dataset\n",
    "\n",
    "-> Investigate data type of features and labels and chose any better option for a \n",
    "particular column for data type if possible\n",
    "\n",
    "-> Calculate the memory usage differences\n",
    "\n",
    "-> Explore the statistical facts like mean, median, x percentiles of the columns"
   ]
  },
  {
   "cell_type": "markdown",
   "metadata": {},
   "source": [
    "## 1. Load the dataset"
   ]
  },
  {
   "cell_type": "code",
   "execution_count": 1,
   "metadata": {},
   "outputs": [],
   "source": [
    "import pandas as pd\n",
    "import warnings\n",
    "\n",
    "warnings.filterwarnings(\"ignore\")\n",
    "\n",
    "df = pd.read_csv(\"Metabolic Syndrome.csv\") # reading in the csv file using pandas, similar implementation cn be done for polars (lazy reading)"
   ]
  },
  {
   "cell_type": "markdown",
   "metadata": {},
   "source": [
    "---"
   ]
  },
  {
   "cell_type": "markdown",
   "metadata": {},
   "source": [
    "## 2. Explore and confirm features and label(s) of this dataset"
   ]
  },
  {
   "cell_type": "code",
   "execution_count": 2,
   "metadata": {},
   "outputs": [
    {
     "data": {
      "text/html": [
       "<div>\n",
       "<style scoped>\n",
       "    .dataframe tbody tr th:only-of-type {\n",
       "        vertical-align: middle;\n",
       "    }\n",
       "\n",
       "    .dataframe tbody tr th {\n",
       "        vertical-align: top;\n",
       "    }\n",
       "\n",
       "    .dataframe thead th {\n",
       "        text-align: right;\n",
       "    }\n",
       "</style>\n",
       "<table border=\"1\" class=\"dataframe\">\n",
       "  <thead>\n",
       "    <tr style=\"text-align: right;\">\n",
       "      <th></th>\n",
       "      <th>seqn</th>\n",
       "      <th>Age</th>\n",
       "      <th>Sex</th>\n",
       "      <th>Marital</th>\n",
       "      <th>Income</th>\n",
       "      <th>Race</th>\n",
       "      <th>WaistCirc</th>\n",
       "      <th>BMI</th>\n",
       "      <th>Albuminuria</th>\n",
       "      <th>UrAlbCr</th>\n",
       "      <th>UricAcid</th>\n",
       "      <th>BloodGlucose</th>\n",
       "      <th>HDL</th>\n",
       "      <th>Triglycerides</th>\n",
       "      <th>MetabolicSyndrome</th>\n",
       "    </tr>\n",
       "  </thead>\n",
       "  <tbody>\n",
       "    <tr>\n",
       "      <th>0</th>\n",
       "      <td>62161</td>\n",
       "      <td>22</td>\n",
       "      <td>Male</td>\n",
       "      <td>Single</td>\n",
       "      <td>8200.0</td>\n",
       "      <td>White</td>\n",
       "      <td>81.0</td>\n",
       "      <td>23.3</td>\n",
       "      <td>0</td>\n",
       "      <td>3.88</td>\n",
       "      <td>4.9</td>\n",
       "      <td>92</td>\n",
       "      <td>41</td>\n",
       "      <td>84</td>\n",
       "      <td>0</td>\n",
       "    </tr>\n",
       "    <tr>\n",
       "      <th>1</th>\n",
       "      <td>62164</td>\n",
       "      <td>44</td>\n",
       "      <td>Female</td>\n",
       "      <td>Married</td>\n",
       "      <td>4500.0</td>\n",
       "      <td>White</td>\n",
       "      <td>80.1</td>\n",
       "      <td>23.2</td>\n",
       "      <td>0</td>\n",
       "      <td>8.55</td>\n",
       "      <td>4.5</td>\n",
       "      <td>82</td>\n",
       "      <td>28</td>\n",
       "      <td>56</td>\n",
       "      <td>0</td>\n",
       "    </tr>\n",
       "    <tr>\n",
       "      <th>2</th>\n",
       "      <td>62169</td>\n",
       "      <td>21</td>\n",
       "      <td>Male</td>\n",
       "      <td>Single</td>\n",
       "      <td>800.0</td>\n",
       "      <td>Asian</td>\n",
       "      <td>69.6</td>\n",
       "      <td>20.1</td>\n",
       "      <td>0</td>\n",
       "      <td>5.07</td>\n",
       "      <td>5.4</td>\n",
       "      <td>107</td>\n",
       "      <td>43</td>\n",
       "      <td>78</td>\n",
       "      <td>0</td>\n",
       "    </tr>\n",
       "    <tr>\n",
       "      <th>3</th>\n",
       "      <td>62172</td>\n",
       "      <td>43</td>\n",
       "      <td>Female</td>\n",
       "      <td>Single</td>\n",
       "      <td>2000.0</td>\n",
       "      <td>Black</td>\n",
       "      <td>120.4</td>\n",
       "      <td>33.3</td>\n",
       "      <td>0</td>\n",
       "      <td>5.22</td>\n",
       "      <td>5.0</td>\n",
       "      <td>104</td>\n",
       "      <td>73</td>\n",
       "      <td>141</td>\n",
       "      <td>0</td>\n",
       "    </tr>\n",
       "    <tr>\n",
       "      <th>4</th>\n",
       "      <td>62177</td>\n",
       "      <td>51</td>\n",
       "      <td>Male</td>\n",
       "      <td>Married</td>\n",
       "      <td>NaN</td>\n",
       "      <td>Asian</td>\n",
       "      <td>81.1</td>\n",
       "      <td>20.1</td>\n",
       "      <td>0</td>\n",
       "      <td>8.13</td>\n",
       "      <td>5.0</td>\n",
       "      <td>95</td>\n",
       "      <td>43</td>\n",
       "      <td>126</td>\n",
       "      <td>0</td>\n",
       "    </tr>\n",
       "    <tr>\n",
       "      <th>...</th>\n",
       "      <td>...</td>\n",
       "      <td>...</td>\n",
       "      <td>...</td>\n",
       "      <td>...</td>\n",
       "      <td>...</td>\n",
       "      <td>...</td>\n",
       "      <td>...</td>\n",
       "      <td>...</td>\n",
       "      <td>...</td>\n",
       "      <td>...</td>\n",
       "      <td>...</td>\n",
       "      <td>...</td>\n",
       "      <td>...</td>\n",
       "      <td>...</td>\n",
       "      <td>...</td>\n",
       "    </tr>\n",
       "    <tr>\n",
       "      <th>2396</th>\n",
       "      <td>71901</td>\n",
       "      <td>48</td>\n",
       "      <td>Female</td>\n",
       "      <td>Married</td>\n",
       "      <td>1000.0</td>\n",
       "      <td>Other</td>\n",
       "      <td>NaN</td>\n",
       "      <td>59.7</td>\n",
       "      <td>0</td>\n",
       "      <td>22.11</td>\n",
       "      <td>5.8</td>\n",
       "      <td>152</td>\n",
       "      <td>57</td>\n",
       "      <td>107</td>\n",
       "      <td>0</td>\n",
       "    </tr>\n",
       "    <tr>\n",
       "      <th>2397</th>\n",
       "      <td>71904</td>\n",
       "      <td>30</td>\n",
       "      <td>Female</td>\n",
       "      <td>Single</td>\n",
       "      <td>2000.0</td>\n",
       "      <td>Asian</td>\n",
       "      <td>NaN</td>\n",
       "      <td>18.0</td>\n",
       "      <td>0</td>\n",
       "      <td>2.90</td>\n",
       "      <td>7.9</td>\n",
       "      <td>91</td>\n",
       "      <td>90</td>\n",
       "      <td>91</td>\n",
       "      <td>0</td>\n",
       "    </tr>\n",
       "    <tr>\n",
       "      <th>2398</th>\n",
       "      <td>71909</td>\n",
       "      <td>28</td>\n",
       "      <td>Male</td>\n",
       "      <td>Single</td>\n",
       "      <td>800.0</td>\n",
       "      <td>MexAmerican</td>\n",
       "      <td>100.8</td>\n",
       "      <td>29.4</td>\n",
       "      <td>0</td>\n",
       "      <td>2.78</td>\n",
       "      <td>6.2</td>\n",
       "      <td>99</td>\n",
       "      <td>47</td>\n",
       "      <td>84</td>\n",
       "      <td>0</td>\n",
       "    </tr>\n",
       "    <tr>\n",
       "      <th>2399</th>\n",
       "      <td>71911</td>\n",
       "      <td>27</td>\n",
       "      <td>Male</td>\n",
       "      <td>Married</td>\n",
       "      <td>8200.0</td>\n",
       "      <td>MexAmerican</td>\n",
       "      <td>106.6</td>\n",
       "      <td>31.3</td>\n",
       "      <td>0</td>\n",
       "      <td>4.15</td>\n",
       "      <td>6.2</td>\n",
       "      <td>100</td>\n",
       "      <td>41</td>\n",
       "      <td>124</td>\n",
       "      <td>1</td>\n",
       "    </tr>\n",
       "    <tr>\n",
       "      <th>2400</th>\n",
       "      <td>71915</td>\n",
       "      <td>60</td>\n",
       "      <td>Male</td>\n",
       "      <td>Single</td>\n",
       "      <td>6200.0</td>\n",
       "      <td>White</td>\n",
       "      <td>106.6</td>\n",
       "      <td>27.5</td>\n",
       "      <td>0</td>\n",
       "      <td>12.82</td>\n",
       "      <td>5.2</td>\n",
       "      <td>91</td>\n",
       "      <td>36</td>\n",
       "      <td>226</td>\n",
       "      <td>1</td>\n",
       "    </tr>\n",
       "  </tbody>\n",
       "</table>\n",
       "<p>2401 rows × 15 columns</p>\n",
       "</div>"
      ],
      "text/plain": [
       "       seqn  Age     Sex  Marital  Income         Race  WaistCirc   BMI  \\\n",
       "0     62161   22    Male   Single  8200.0        White       81.0  23.3   \n",
       "1     62164   44  Female  Married  4500.0        White       80.1  23.2   \n",
       "2     62169   21    Male   Single   800.0        Asian       69.6  20.1   \n",
       "3     62172   43  Female   Single  2000.0        Black      120.4  33.3   \n",
       "4     62177   51    Male  Married     NaN        Asian       81.1  20.1   \n",
       "...     ...  ...     ...      ...     ...          ...        ...   ...   \n",
       "2396  71901   48  Female  Married  1000.0        Other        NaN  59.7   \n",
       "2397  71904   30  Female   Single  2000.0        Asian        NaN  18.0   \n",
       "2398  71909   28    Male   Single   800.0  MexAmerican      100.8  29.4   \n",
       "2399  71911   27    Male  Married  8200.0  MexAmerican      106.6  31.3   \n",
       "2400  71915   60    Male   Single  6200.0        White      106.6  27.5   \n",
       "\n",
       "      Albuminuria  UrAlbCr  UricAcid  BloodGlucose  HDL  Triglycerides  \\\n",
       "0               0     3.88       4.9            92   41             84   \n",
       "1               0     8.55       4.5            82   28             56   \n",
       "2               0     5.07       5.4           107   43             78   \n",
       "3               0     5.22       5.0           104   73            141   \n",
       "4               0     8.13       5.0            95   43            126   \n",
       "...           ...      ...       ...           ...  ...            ...   \n",
       "2396            0    22.11       5.8           152   57            107   \n",
       "2397            0     2.90       7.9            91   90             91   \n",
       "2398            0     2.78       6.2            99   47             84   \n",
       "2399            0     4.15       6.2           100   41            124   \n",
       "2400            0    12.82       5.2            91   36            226   \n",
       "\n",
       "      MetabolicSyndrome  \n",
       "0                     0  \n",
       "1                     0  \n",
       "2                     0  \n",
       "3                     0  \n",
       "4                     0  \n",
       "...                 ...  \n",
       "2396                  0  \n",
       "2397                  0  \n",
       "2398                  0  \n",
       "2399                  1  \n",
       "2400                  1  \n",
       "\n",
       "[2401 rows x 15 columns]"
      ]
     },
     "execution_count": 2,
     "metadata": {},
     "output_type": "execute_result"
    }
   ],
   "source": [
    "df # displaying the dataset"
   ]
  },
  {
   "cell_type": "code",
   "execution_count": 3,
   "metadata": {},
   "outputs": [
    {
     "data": {
      "text/plain": [
       "Index(['seqn', 'Age', 'Sex', 'Marital', 'Income', 'Race', 'WaistCirc', 'BMI',\n",
       "       'Albuminuria', 'UrAlbCr', 'UricAcid', 'BloodGlucose', 'HDL',\n",
       "       'Triglycerides', 'MetabolicSyndrome'],\n",
       "      dtype='object')"
      ]
     },
     "execution_count": 3,
     "metadata": {},
     "output_type": "execute_result"
    }
   ],
   "source": [
    "df.columns # displaying column names/features"
   ]
  },
  {
   "cell_type": "code",
   "execution_count": 4,
   "metadata": {},
   "outputs": [
    {
     "data": {
      "text/html": [
       "<div>\n",
       "<style scoped>\n",
       "    .dataframe tbody tr th:only-of-type {\n",
       "        vertical-align: middle;\n",
       "    }\n",
       "\n",
       "    .dataframe tbody tr th {\n",
       "        vertical-align: top;\n",
       "    }\n",
       "\n",
       "    .dataframe thead th {\n",
       "        text-align: right;\n",
       "    }\n",
       "</style>\n",
       "<table border=\"1\" class=\"dataframe\">\n",
       "  <thead>\n",
       "    <tr style=\"text-align: right;\">\n",
       "      <th></th>\n",
       "      <th>seqn</th>\n",
       "      <th>Age</th>\n",
       "      <th>Sex</th>\n",
       "      <th>Marital</th>\n",
       "      <th>Income</th>\n",
       "      <th>Race</th>\n",
       "      <th>WaistCirc</th>\n",
       "      <th>BMI</th>\n",
       "      <th>Albuminuria</th>\n",
       "      <th>UrAlbCr</th>\n",
       "      <th>UricAcid</th>\n",
       "      <th>BloodGlucose</th>\n",
       "      <th>HDL</th>\n",
       "      <th>Triglycerides</th>\n",
       "      <th>MetabolicSyndrome</th>\n",
       "    </tr>\n",
       "  </thead>\n",
       "  <tbody>\n",
       "    <tr>\n",
       "      <th>0</th>\n",
       "      <td>62161</td>\n",
       "      <td>22</td>\n",
       "      <td>Male</td>\n",
       "      <td>Single</td>\n",
       "      <td>8200.0</td>\n",
       "      <td>White</td>\n",
       "      <td>81.0</td>\n",
       "      <td>23.3</td>\n",
       "      <td>0</td>\n",
       "      <td>3.88</td>\n",
       "      <td>4.9</td>\n",
       "      <td>92</td>\n",
       "      <td>41</td>\n",
       "      <td>84</td>\n",
       "      <td>0</td>\n",
       "    </tr>\n",
       "    <tr>\n",
       "      <th>1</th>\n",
       "      <td>62164</td>\n",
       "      <td>44</td>\n",
       "      <td>Female</td>\n",
       "      <td>Married</td>\n",
       "      <td>4500.0</td>\n",
       "      <td>White</td>\n",
       "      <td>80.1</td>\n",
       "      <td>23.2</td>\n",
       "      <td>0</td>\n",
       "      <td>8.55</td>\n",
       "      <td>4.5</td>\n",
       "      <td>82</td>\n",
       "      <td>28</td>\n",
       "      <td>56</td>\n",
       "      <td>0</td>\n",
       "    </tr>\n",
       "    <tr>\n",
       "      <th>2</th>\n",
       "      <td>62169</td>\n",
       "      <td>21</td>\n",
       "      <td>Male</td>\n",
       "      <td>Single</td>\n",
       "      <td>800.0</td>\n",
       "      <td>Asian</td>\n",
       "      <td>69.6</td>\n",
       "      <td>20.1</td>\n",
       "      <td>0</td>\n",
       "      <td>5.07</td>\n",
       "      <td>5.4</td>\n",
       "      <td>107</td>\n",
       "      <td>43</td>\n",
       "      <td>78</td>\n",
       "      <td>0</td>\n",
       "    </tr>\n",
       "    <tr>\n",
       "      <th>3</th>\n",
       "      <td>62172</td>\n",
       "      <td>43</td>\n",
       "      <td>Female</td>\n",
       "      <td>Single</td>\n",
       "      <td>2000.0</td>\n",
       "      <td>Black</td>\n",
       "      <td>120.4</td>\n",
       "      <td>33.3</td>\n",
       "      <td>0</td>\n",
       "      <td>5.22</td>\n",
       "      <td>5.0</td>\n",
       "      <td>104</td>\n",
       "      <td>73</td>\n",
       "      <td>141</td>\n",
       "      <td>0</td>\n",
       "    </tr>\n",
       "    <tr>\n",
       "      <th>4</th>\n",
       "      <td>62177</td>\n",
       "      <td>51</td>\n",
       "      <td>Male</td>\n",
       "      <td>Married</td>\n",
       "      <td>NaN</td>\n",
       "      <td>Asian</td>\n",
       "      <td>81.1</td>\n",
       "      <td>20.1</td>\n",
       "      <td>0</td>\n",
       "      <td>8.13</td>\n",
       "      <td>5.0</td>\n",
       "      <td>95</td>\n",
       "      <td>43</td>\n",
       "      <td>126</td>\n",
       "      <td>0</td>\n",
       "    </tr>\n",
       "  </tbody>\n",
       "</table>\n",
       "</div>"
      ],
      "text/plain": [
       "    seqn  Age     Sex  Marital  Income   Race  WaistCirc   BMI  Albuminuria  \\\n",
       "0  62161   22    Male   Single  8200.0  White       81.0  23.3            0   \n",
       "1  62164   44  Female  Married  4500.0  White       80.1  23.2            0   \n",
       "2  62169   21    Male   Single   800.0  Asian       69.6  20.1            0   \n",
       "3  62172   43  Female   Single  2000.0  Black      120.4  33.3            0   \n",
       "4  62177   51    Male  Married     NaN  Asian       81.1  20.1            0   \n",
       "\n",
       "   UrAlbCr  UricAcid  BloodGlucose  HDL  Triglycerides  MetabolicSyndrome  \n",
       "0     3.88       4.9            92   41             84                  0  \n",
       "1     8.55       4.5            82   28             56                  0  \n",
       "2     5.07       5.4           107   43             78                  0  \n",
       "3     5.22       5.0           104   73            141                  0  \n",
       "4     8.13       5.0            95   43            126                  0  "
      ]
     },
     "execution_count": 4,
     "metadata": {},
     "output_type": "execute_result"
    }
   ],
   "source": [
    "df.head() # displaying first 5 rows"
   ]
  },
  {
   "cell_type": "code",
   "execution_count": 5,
   "metadata": {},
   "outputs": [
    {
     "data": {
      "text/html": [
       "<div>\n",
       "<style scoped>\n",
       "    .dataframe tbody tr th:only-of-type {\n",
       "        vertical-align: middle;\n",
       "    }\n",
       "\n",
       "    .dataframe tbody tr th {\n",
       "        vertical-align: top;\n",
       "    }\n",
       "\n",
       "    .dataframe thead th {\n",
       "        text-align: right;\n",
       "    }\n",
       "</style>\n",
       "<table border=\"1\" class=\"dataframe\">\n",
       "  <thead>\n",
       "    <tr style=\"text-align: right;\">\n",
       "      <th></th>\n",
       "      <th>seqn</th>\n",
       "      <th>Age</th>\n",
       "      <th>Sex</th>\n",
       "      <th>Marital</th>\n",
       "      <th>Income</th>\n",
       "      <th>Race</th>\n",
       "      <th>WaistCirc</th>\n",
       "      <th>BMI</th>\n",
       "      <th>Albuminuria</th>\n",
       "      <th>UrAlbCr</th>\n",
       "      <th>UricAcid</th>\n",
       "      <th>BloodGlucose</th>\n",
       "      <th>HDL</th>\n",
       "      <th>Triglycerides</th>\n",
       "      <th>MetabolicSyndrome</th>\n",
       "    </tr>\n",
       "  </thead>\n",
       "  <tbody>\n",
       "    <tr>\n",
       "      <th>2396</th>\n",
       "      <td>71901</td>\n",
       "      <td>48</td>\n",
       "      <td>Female</td>\n",
       "      <td>Married</td>\n",
       "      <td>1000.0</td>\n",
       "      <td>Other</td>\n",
       "      <td>NaN</td>\n",
       "      <td>59.7</td>\n",
       "      <td>0</td>\n",
       "      <td>22.11</td>\n",
       "      <td>5.8</td>\n",
       "      <td>152</td>\n",
       "      <td>57</td>\n",
       "      <td>107</td>\n",
       "      <td>0</td>\n",
       "    </tr>\n",
       "    <tr>\n",
       "      <th>2397</th>\n",
       "      <td>71904</td>\n",
       "      <td>30</td>\n",
       "      <td>Female</td>\n",
       "      <td>Single</td>\n",
       "      <td>2000.0</td>\n",
       "      <td>Asian</td>\n",
       "      <td>NaN</td>\n",
       "      <td>18.0</td>\n",
       "      <td>0</td>\n",
       "      <td>2.90</td>\n",
       "      <td>7.9</td>\n",
       "      <td>91</td>\n",
       "      <td>90</td>\n",
       "      <td>91</td>\n",
       "      <td>0</td>\n",
       "    </tr>\n",
       "    <tr>\n",
       "      <th>2398</th>\n",
       "      <td>71909</td>\n",
       "      <td>28</td>\n",
       "      <td>Male</td>\n",
       "      <td>Single</td>\n",
       "      <td>800.0</td>\n",
       "      <td>MexAmerican</td>\n",
       "      <td>100.8</td>\n",
       "      <td>29.4</td>\n",
       "      <td>0</td>\n",
       "      <td>2.78</td>\n",
       "      <td>6.2</td>\n",
       "      <td>99</td>\n",
       "      <td>47</td>\n",
       "      <td>84</td>\n",
       "      <td>0</td>\n",
       "    </tr>\n",
       "    <tr>\n",
       "      <th>2399</th>\n",
       "      <td>71911</td>\n",
       "      <td>27</td>\n",
       "      <td>Male</td>\n",
       "      <td>Married</td>\n",
       "      <td>8200.0</td>\n",
       "      <td>MexAmerican</td>\n",
       "      <td>106.6</td>\n",
       "      <td>31.3</td>\n",
       "      <td>0</td>\n",
       "      <td>4.15</td>\n",
       "      <td>6.2</td>\n",
       "      <td>100</td>\n",
       "      <td>41</td>\n",
       "      <td>124</td>\n",
       "      <td>1</td>\n",
       "    </tr>\n",
       "    <tr>\n",
       "      <th>2400</th>\n",
       "      <td>71915</td>\n",
       "      <td>60</td>\n",
       "      <td>Male</td>\n",
       "      <td>Single</td>\n",
       "      <td>6200.0</td>\n",
       "      <td>White</td>\n",
       "      <td>106.6</td>\n",
       "      <td>27.5</td>\n",
       "      <td>0</td>\n",
       "      <td>12.82</td>\n",
       "      <td>5.2</td>\n",
       "      <td>91</td>\n",
       "      <td>36</td>\n",
       "      <td>226</td>\n",
       "      <td>1</td>\n",
       "    </tr>\n",
       "  </tbody>\n",
       "</table>\n",
       "</div>"
      ],
      "text/plain": [
       "       seqn  Age     Sex  Marital  Income         Race  WaistCirc   BMI  \\\n",
       "2396  71901   48  Female  Married  1000.0        Other        NaN  59.7   \n",
       "2397  71904   30  Female   Single  2000.0        Asian        NaN  18.0   \n",
       "2398  71909   28    Male   Single   800.0  MexAmerican      100.8  29.4   \n",
       "2399  71911   27    Male  Married  8200.0  MexAmerican      106.6  31.3   \n",
       "2400  71915   60    Male   Single  6200.0        White      106.6  27.5   \n",
       "\n",
       "      Albuminuria  UrAlbCr  UricAcid  BloodGlucose  HDL  Triglycerides  \\\n",
       "2396            0    22.11       5.8           152   57            107   \n",
       "2397            0     2.90       7.9            91   90             91   \n",
       "2398            0     2.78       6.2            99   47             84   \n",
       "2399            0     4.15       6.2           100   41            124   \n",
       "2400            0    12.82       5.2            91   36            226   \n",
       "\n",
       "      MetabolicSyndrome  \n",
       "2396                  0  \n",
       "2397                  0  \n",
       "2398                  0  \n",
       "2399                  1  \n",
       "2400                  1  "
      ]
     },
     "execution_count": 5,
     "metadata": {},
     "output_type": "execute_result"
    }
   ],
   "source": [
    "df.tail() # displaying last 5 rows"
   ]
  },
  {
   "cell_type": "markdown",
   "metadata": {},
   "source": [
    "---"
   ]
  },
  {
   "cell_type": "markdown",
   "metadata": {},
   "source": [
    "## 3. Explore size/shape of dataset"
   ]
  },
  {
   "cell_type": "code",
   "execution_count": 6,
   "metadata": {},
   "outputs": [
    {
     "data": {
      "text/plain": [
       "(2401, 15)"
      ]
     },
     "execution_count": 6,
     "metadata": {},
     "output_type": "execute_result"
    }
   ],
   "source": [
    "df.shape # displaying shape of the dataset"
   ]
  },
  {
   "cell_type": "markdown",
   "metadata": {},
   "source": [
    "---"
   ]
  },
  {
   "cell_type": "markdown",
   "metadata": {},
   "source": [
    "## 4. Investigate data type of features and labels and chose any better option for a particular column for data type if possible"
   ]
  },
  {
   "cell_type": "code",
   "execution_count": 7,
   "metadata": {},
   "outputs": [
    {
     "name": "stdout",
     "output_type": "stream",
     "text": [
      "<class 'pandas.core.frame.DataFrame'>\n",
      "RangeIndex: 2401 entries, 0 to 2400\n",
      "Data columns (total 15 columns):\n",
      " #   Column             Non-Null Count  Dtype  \n",
      "---  ------             --------------  -----  \n",
      " 0   seqn               2401 non-null   int64  \n",
      " 1   Age                2401 non-null   int64  \n",
      " 2   Sex                2401 non-null   object \n",
      " 3   Marital            2193 non-null   object \n",
      " 4   Income             2284 non-null   float64\n",
      " 5   Race               2401 non-null   object \n",
      " 6   WaistCirc          2316 non-null   float64\n",
      " 7   BMI                2375 non-null   float64\n",
      " 8   Albuminuria        2401 non-null   int64  \n",
      " 9   UrAlbCr            2401 non-null   float64\n",
      " 10  UricAcid           2401 non-null   float64\n",
      " 11  BloodGlucose       2401 non-null   int64  \n",
      " 12  HDL                2401 non-null   int64  \n",
      " 13  Triglycerides      2401 non-null   int64  \n",
      " 14  MetabolicSyndrome  2401 non-null   int64  \n",
      "dtypes: float64(5), int64(7), object(3)\n",
      "memory usage: 281.5+ KB\n"
     ]
    }
   ],
   "source": [
    "df.info() # displays information about the dataset, with respective datatypes for each column"
   ]
  },
  {
   "cell_type": "markdown",
   "metadata": {},
   "source": [
    "From above list we see datatypes include float, int and object. ML models require data to be numerical, so we would have to convert datatype object into float/int to proceed further in the ML pipeline.\n",
    "\n",
    "Identified columns that need above change: with corresponding encoding techniques\n",
    "\n",
    "-> Sex : binary encoding : one-hot or label encoder\n",
    "\n",
    "-> Marital : multi-value encoding : label or ordinal encoder\n",
    "\n",
    "-> Race : multi-value encoding : label encoder"
   ]
  },
  {
   "cell_type": "code",
   "execution_count": 8,
   "metadata": {},
   "outputs": [
    {
     "data": {
      "text/plain": [
       "{'Female', 'Male'}"
      ]
     },
     "execution_count": 8,
     "metadata": {},
     "output_type": "execute_result"
    }
   ],
   "source": [
    "set(df['Sex']) # unique values to be encoded in Sex"
   ]
  },
  {
   "cell_type": "code",
   "execution_count": 9,
   "metadata": {},
   "outputs": [
    {
     "data": {
      "text/plain": [
       "{'Divorced', 'Married', 'Separated', 'Single', 'Widowed', nan}"
      ]
     },
     "execution_count": 9,
     "metadata": {},
     "output_type": "execute_result"
    }
   ],
   "source": [
    "set(df['Marital']) # unique values to be encoded in Marital status"
   ]
  },
  {
   "cell_type": "code",
   "execution_count": 10,
   "metadata": {},
   "outputs": [
    {
     "data": {
      "text/plain": [
       "{'Asian', 'Black', 'Hispanic', 'MexAmerican', 'Other', 'White'}"
      ]
     },
     "execution_count": 10,
     "metadata": {},
     "output_type": "execute_result"
    }
   ],
   "source": [
    "set(df['Race']) # unique values to be encoded in Race"
   ]
  },
  {
   "cell_type": "markdown",
   "metadata": {},
   "source": [
    "---"
   ]
  },
  {
   "cell_type": "markdown",
   "metadata": {},
   "source": [
    "# 5. Calculate the memory usage differences"
   ]
  },
  {
   "cell_type": "markdown",
   "metadata": {},
   "source": [
    "### pandas"
   ]
  },
  {
   "cell_type": "code",
   "execution_count": 11,
   "metadata": {},
   "outputs": [
    {
     "name": "stdout",
     "output_type": "stream",
     "text": [
      "Pandas Memory Usage: 288248 Bytes\n"
     ]
    }
   ],
   "source": [
    "print(\"Pandas Memory Usage:\", df.memory_usage().sum(), 'Bytes')"
   ]
  },
  {
   "cell_type": "code",
   "execution_count": 12,
   "metadata": {},
   "outputs": [
    {
     "name": "stdout",
     "output_type": "stream",
     "text": [
      "Pandas Deep Memory Usage: 677600 Bytes\n"
     ]
    }
   ],
   "source": [
    "print(\"Pandas Deep Memory Usage:\", df.memory_usage(deep=True).sum(), 'Bytes')"
   ]
  },
  {
   "cell_type": "markdown",
   "metadata": {},
   "source": [
    "### polars"
   ]
  },
  {
   "cell_type": "code",
   "execution_count": 13,
   "metadata": {},
   "outputs": [
    {
     "name": "stdout",
     "output_type": "stream",
     "text": [
      "Polars Memory Usage: 266.537109375 KB\n"
     ]
    }
   ],
   "source": [
    "import polars as pl\n",
    "\n",
    "df1 = pl.read_csv('Metabolic Syndrome.csv')\n",
    "\n",
    "print(\"Polars Memory Usage:\", df1.estimated_size('kb') , 'KB')\n",
    "\n",
    "del df1 # deleting polars implementation since pandas implementation is not memory-intensive"
   ]
  },
  {
   "cell_type": "markdown",
   "metadata": {},
   "source": [
    "## memory usage for dataset\n",
    "\n",
    "### pandas\n",
    "\n",
    "memory usage: 661.7 KB\n",
    "\n",
    "lazy read memory usage: 282 KB\n",
    "\n",
    "### polars\n",
    "\n",
    "lazy read memory usage: 267 KB"
   ]
  },
  {
   "cell_type": "markdown",
   "metadata": {},
   "source": [
    "---"
   ]
  },
  {
   "cell_type": "markdown",
   "metadata": {},
   "source": [
    "## 6. Explore the statistical facts like mean, median, x percentiles of the columns"
   ]
  },
  {
   "cell_type": "code",
   "execution_count": 14,
   "metadata": {},
   "outputs": [
    {
     "data": {
      "text/html": [
       "<div>\n",
       "<style scoped>\n",
       "    .dataframe tbody tr th:only-of-type {\n",
       "        vertical-align: middle;\n",
       "    }\n",
       "\n",
       "    .dataframe tbody tr th {\n",
       "        vertical-align: top;\n",
       "    }\n",
       "\n",
       "    .dataframe thead th {\n",
       "        text-align: right;\n",
       "    }\n",
       "</style>\n",
       "<table border=\"1\" class=\"dataframe\">\n",
       "  <thead>\n",
       "    <tr style=\"text-align: right;\">\n",
       "      <th></th>\n",
       "      <th>seqn</th>\n",
       "      <th>Age</th>\n",
       "      <th>Income</th>\n",
       "      <th>WaistCirc</th>\n",
       "      <th>BMI</th>\n",
       "      <th>Albuminuria</th>\n",
       "      <th>UrAlbCr</th>\n",
       "      <th>UricAcid</th>\n",
       "      <th>BloodGlucose</th>\n",
       "      <th>HDL</th>\n",
       "      <th>Triglycerides</th>\n",
       "      <th>MetabolicSyndrome</th>\n",
       "    </tr>\n",
       "  </thead>\n",
       "  <tbody>\n",
       "    <tr>\n",
       "      <th>count</th>\n",
       "      <td>2401.000000</td>\n",
       "      <td>2401.000000</td>\n",
       "      <td>2284.000000</td>\n",
       "      <td>2316.000000</td>\n",
       "      <td>2375.000000</td>\n",
       "      <td>2401.000000</td>\n",
       "      <td>2401.000000</td>\n",
       "      <td>2401.000000</td>\n",
       "      <td>2401.000000</td>\n",
       "      <td>2401.000000</td>\n",
       "      <td>2401.000000</td>\n",
       "      <td>2401.000000</td>\n",
       "    </tr>\n",
       "    <tr>\n",
       "      <th>mean</th>\n",
       "      <td>67030.674302</td>\n",
       "      <td>48.691795</td>\n",
       "      <td>4005.253940</td>\n",
       "      <td>98.307254</td>\n",
       "      <td>28.702189</td>\n",
       "      <td>0.154102</td>\n",
       "      <td>43.626131</td>\n",
       "      <td>5.489046</td>\n",
       "      <td>108.247813</td>\n",
       "      <td>53.369429</td>\n",
       "      <td>128.125364</td>\n",
       "      <td>0.342357</td>\n",
       "    </tr>\n",
       "    <tr>\n",
       "      <th>std</th>\n",
       "      <td>2823.565114</td>\n",
       "      <td>17.632852</td>\n",
       "      <td>2954.032186</td>\n",
       "      <td>16.252634</td>\n",
       "      <td>6.662242</td>\n",
       "      <td>0.422780</td>\n",
       "      <td>258.272829</td>\n",
       "      <td>1.439358</td>\n",
       "      <td>34.820657</td>\n",
       "      <td>15.185537</td>\n",
       "      <td>95.322477</td>\n",
       "      <td>0.474597</td>\n",
       "    </tr>\n",
       "    <tr>\n",
       "      <th>min</th>\n",
       "      <td>62161.000000</td>\n",
       "      <td>20.000000</td>\n",
       "      <td>300.000000</td>\n",
       "      <td>56.200000</td>\n",
       "      <td>13.400000</td>\n",
       "      <td>0.000000</td>\n",
       "      <td>1.400000</td>\n",
       "      <td>1.800000</td>\n",
       "      <td>39.000000</td>\n",
       "      <td>14.000000</td>\n",
       "      <td>26.000000</td>\n",
       "      <td>0.000000</td>\n",
       "    </tr>\n",
       "    <tr>\n",
       "      <th>10%</th>\n",
       "      <td>63133.000000</td>\n",
       "      <td>25.000000</td>\n",
       "      <td>1000.000000</td>\n",
       "      <td>78.600000</td>\n",
       "      <td>21.400000</td>\n",
       "      <td>0.000000</td>\n",
       "      <td>3.220000</td>\n",
       "      <td>3.700000</td>\n",
       "      <td>86.000000</td>\n",
       "      <td>36.000000</td>\n",
       "      <td>56.000000</td>\n",
       "      <td>0.000000</td>\n",
       "    </tr>\n",
       "    <tr>\n",
       "      <th>25%</th>\n",
       "      <td>64591.000000</td>\n",
       "      <td>34.000000</td>\n",
       "      <td>1600.000000</td>\n",
       "      <td>86.675000</td>\n",
       "      <td>24.000000</td>\n",
       "      <td>0.000000</td>\n",
       "      <td>4.450000</td>\n",
       "      <td>4.500000</td>\n",
       "      <td>92.000000</td>\n",
       "      <td>43.000000</td>\n",
       "      <td>75.000000</td>\n",
       "      <td>0.000000</td>\n",
       "    </tr>\n",
       "    <tr>\n",
       "      <th>50%</th>\n",
       "      <td>67059.000000</td>\n",
       "      <td>48.000000</td>\n",
       "      <td>2500.000000</td>\n",
       "      <td>97.000000</td>\n",
       "      <td>27.700000</td>\n",
       "      <td>0.000000</td>\n",
       "      <td>7.070000</td>\n",
       "      <td>5.400000</td>\n",
       "      <td>99.000000</td>\n",
       "      <td>51.000000</td>\n",
       "      <td>103.000000</td>\n",
       "      <td>0.000000</td>\n",
       "    </tr>\n",
       "    <tr>\n",
       "      <th>75%</th>\n",
       "      <td>69495.000000</td>\n",
       "      <td>63.000000</td>\n",
       "      <td>6200.000000</td>\n",
       "      <td>107.625000</td>\n",
       "      <td>32.100000</td>\n",
       "      <td>0.000000</td>\n",
       "      <td>13.690000</td>\n",
       "      <td>6.400000</td>\n",
       "      <td>110.000000</td>\n",
       "      <td>62.000000</td>\n",
       "      <td>150.000000</td>\n",
       "      <td>1.000000</td>\n",
       "    </tr>\n",
       "    <tr>\n",
       "      <th>99%</th>\n",
       "      <td>71830.000000</td>\n",
       "      <td>80.000000</td>\n",
       "      <td>9000.000000</td>\n",
       "      <td>145.165000</td>\n",
       "      <td>49.200000</td>\n",
       "      <td>2.000000</td>\n",
       "      <td>806.580000</td>\n",
       "      <td>9.400000</td>\n",
       "      <td>278.000000</td>\n",
       "      <td>97.000000</td>\n",
       "      <td>511.000000</td>\n",
       "      <td>1.000000</td>\n",
       "    </tr>\n",
       "    <tr>\n",
       "      <th>max</th>\n",
       "      <td>71915.000000</td>\n",
       "      <td>80.000000</td>\n",
       "      <td>9000.000000</td>\n",
       "      <td>176.000000</td>\n",
       "      <td>68.700000</td>\n",
       "      <td>2.000000</td>\n",
       "      <td>5928.000000</td>\n",
       "      <td>11.300000</td>\n",
       "      <td>382.000000</td>\n",
       "      <td>156.000000</td>\n",
       "      <td>1562.000000</td>\n",
       "      <td>1.000000</td>\n",
       "    </tr>\n",
       "  </tbody>\n",
       "</table>\n",
       "</div>"
      ],
      "text/plain": [
       "               seqn          Age       Income    WaistCirc          BMI  \\\n",
       "count   2401.000000  2401.000000  2284.000000  2316.000000  2375.000000   \n",
       "mean   67030.674302    48.691795  4005.253940    98.307254    28.702189   \n",
       "std     2823.565114    17.632852  2954.032186    16.252634     6.662242   \n",
       "min    62161.000000    20.000000   300.000000    56.200000    13.400000   \n",
       "10%    63133.000000    25.000000  1000.000000    78.600000    21.400000   \n",
       "25%    64591.000000    34.000000  1600.000000    86.675000    24.000000   \n",
       "50%    67059.000000    48.000000  2500.000000    97.000000    27.700000   \n",
       "75%    69495.000000    63.000000  6200.000000   107.625000    32.100000   \n",
       "99%    71830.000000    80.000000  9000.000000   145.165000    49.200000   \n",
       "max    71915.000000    80.000000  9000.000000   176.000000    68.700000   \n",
       "\n",
       "       Albuminuria      UrAlbCr     UricAcid  BloodGlucose          HDL  \\\n",
       "count  2401.000000  2401.000000  2401.000000   2401.000000  2401.000000   \n",
       "mean      0.154102    43.626131     5.489046    108.247813    53.369429   \n",
       "std       0.422780   258.272829     1.439358     34.820657    15.185537   \n",
       "min       0.000000     1.400000     1.800000     39.000000    14.000000   \n",
       "10%       0.000000     3.220000     3.700000     86.000000    36.000000   \n",
       "25%       0.000000     4.450000     4.500000     92.000000    43.000000   \n",
       "50%       0.000000     7.070000     5.400000     99.000000    51.000000   \n",
       "75%       0.000000    13.690000     6.400000    110.000000    62.000000   \n",
       "99%       2.000000   806.580000     9.400000    278.000000    97.000000   \n",
       "max       2.000000  5928.000000    11.300000    382.000000   156.000000   \n",
       "\n",
       "       Triglycerides  MetabolicSyndrome  \n",
       "count    2401.000000        2401.000000  \n",
       "mean      128.125364           0.342357  \n",
       "std        95.322477           0.474597  \n",
       "min        26.000000           0.000000  \n",
       "10%        56.000000           0.000000  \n",
       "25%        75.000000           0.000000  \n",
       "50%       103.000000           0.000000  \n",
       "75%       150.000000           1.000000  \n",
       "99%       511.000000           1.000000  \n",
       "max      1562.000000           1.000000  "
      ]
     },
     "execution_count": 14,
     "metadata": {},
     "output_type": "execute_result"
    }
   ],
   "source": [
    "df.describe(percentiles=[0.1,0.25,0.5,0.75,0.99]) # describes numerical interpretations of the dataset in terms of mean, max, min, quartiles, etc.\n",
    "\n",
    "# percentiles considered: 10, 25, 50, 75, 99"
   ]
  },
  {
   "cell_type": "markdown",
   "metadata": {},
   "source": [
    "only for numerical data*"
   ]
  },
  {
   "cell_type": "markdown",
   "metadata": {},
   "source": [
    "---"
   ]
  },
  {
   "cell_type": "markdown",
   "metadata": {},
   "source": [
    "## 7. Finding NULL/NaN count for imputation"
   ]
  },
  {
   "cell_type": "code",
   "execution_count": 15,
   "metadata": {},
   "outputs": [
    {
     "data": {
      "text/plain": [
       "seqn                   0\n",
       "Age                    0\n",
       "Sex                    0\n",
       "Marital              208\n",
       "Income               117\n",
       "Race                   0\n",
       "WaistCirc             85\n",
       "BMI                   26\n",
       "Albuminuria            0\n",
       "UrAlbCr                0\n",
       "UricAcid               0\n",
       "BloodGlucose           0\n",
       "HDL                    0\n",
       "Triglycerides          0\n",
       "MetabolicSyndrome      0\n",
       "dtype: int64"
      ]
     },
     "execution_count": 15,
     "metadata": {},
     "output_type": "execute_result"
    }
   ],
   "source": [
    "df.isnull().sum() # counting null values and summing them for each column"
   ]
  },
  {
   "cell_type": "markdown",
   "metadata": {},
   "source": [
    "in addition to encoding we would also need imputation on the following columns since these hold null/NaN values which cannot be sent into a ML model:\n",
    "\n",
    "-> Marital\n",
    "\n",
    "-> Income\n",
    "\n",
    "-> WaistCirc\n",
    "\n",
    "-> BMI"
   ]
  },
  {
   "cell_type": "markdown",
   "metadata": {},
   "source": [
    "of the above null values we would have to check if the columns are disjoint from others or dependent on another column(s) :\n",
    "\n",
    "for example, income could be evaluated to depend on Sex and Marital status, or BMI being dependent on Sex, and hence keeping in mind these dependencies we would have to encode values."
   ]
  }
 ],
 "metadata": {
  "kernelspec": {
   "display_name": "Python 3",
   "language": "python",
   "name": "python3"
  },
  "language_info": {
   "codemirror_mode": {
    "name": "ipython",
    "version": 3
   },
   "file_extension": ".py",
   "mimetype": "text/x-python",
   "name": "python",
   "nbconvert_exporter": "python",
   "pygments_lexer": "ipython3",
   "version": "3.11.0"
  }
 },
 "nbformat": 4,
 "nbformat_minor": 2
}
