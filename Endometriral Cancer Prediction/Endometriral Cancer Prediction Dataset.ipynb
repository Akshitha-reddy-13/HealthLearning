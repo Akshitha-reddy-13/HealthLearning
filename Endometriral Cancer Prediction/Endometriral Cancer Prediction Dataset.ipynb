{
 "cells": [
  {
   "cell_type": "markdown",
   "id": "8ea6b3f8",
   "metadata": {},
   "source": [
    "# Endometriral Cancer Prediction Dataset"
   ]
  },
  {
   "cell_type": "code",
   "execution_count": 1,
   "id": "b9b66e04",
   "metadata": {},
   "outputs": [],
   "source": [
    "\n",
    "#importing libraries\n",
    "\n",
    "import numpy as np\n",
    "import pandas as pd"
   ]
  },
  {
   "cell_type": "markdown",
   "id": "62600d10",
   "metadata": {},
   "source": [
    "# Load the dataset into Jupyter Notebook\n",
    "\n",
    "There are various formats for a dataset, .csv, .json, .xlsx etc. The dataset can be stored in different places, on your local machine or sometimes online. In our case, the PCOS Dataset is an online source, and it is in CSV (comma separated value) format.\n",
    "\n",
    "dataset name : Endometriral Cancer Prediction Dataset_data.csv\n",
    "\n",
    "The Pandas Library is a useful tool that enables us to read various datasets into a data frame; our Jupyter notebook platforms have a built-in Pandas Library so that all we need to do is import Pandas without installing."
   ]
  },
  {
   "cell_type": "code",
   "execution_count": 2,
   "id": "82c0c766",
   "metadata": {},
   "outputs": [
    {
     "data": {
      "text/html": [
       "<div>\n",
       "<style scoped>\n",
       "    .dataframe tbody tr th:only-of-type {\n",
       "        vertical-align: middle;\n",
       "    }\n",
       "\n",
       "    .dataframe tbody tr th {\n",
       "        vertical-align: top;\n",
       "    }\n",
       "\n",
       "    .dataframe thead th {\n",
       "        text-align: right;\n",
       "    }\n",
       "</style>\n",
       "<table border=\"1\" class=\"dataframe\">\n",
       "  <thead>\n",
       "    <tr style=\"text-align: right;\">\n",
       "      <th></th>\n",
       "      <th>Patient ID</th>\n",
       "      <th>Sample ID</th>\n",
       "      <th>Cancer Type Detailed</th>\n",
       "      <th>Overall Survival Status</th>\n",
       "      <th>Disease Free Status</th>\n",
       "      <th>Disease-specific Survival status</th>\n",
       "      <th>Mutation Count</th>\n",
       "      <th>Fraction Genome Altered</th>\n",
       "      <th>Diagnosis Age</th>\n",
       "      <th>MSI MANTIS Score</th>\n",
       "      <th>MSIsensor Score</th>\n",
       "      <th>Race Category</th>\n",
       "      <th>Subtype</th>\n",
       "      <th>Tumor Type</th>\n",
       "    </tr>\n",
       "  </thead>\n",
       "  <tbody>\n",
       "    <tr>\n",
       "      <th>0</th>\n",
       "      <td>TCGA-2E-A9G8</td>\n",
       "      <td>TCGA-2E-A9G8-01</td>\n",
       "      <td>Uterine Endometrioid Carcinoma</td>\n",
       "      <td>0:LIVING</td>\n",
       "      <td>NaN</td>\n",
       "      <td>0:ALIVE OR DEAD TUMOR FREE</td>\n",
       "      <td>65.0</td>\n",
       "      <td>0.3311</td>\n",
       "      <td>59.0</td>\n",
       "      <td>0.3234</td>\n",
       "      <td>0.85</td>\n",
       "      <td>Black or African American</td>\n",
       "      <td>UCEC_CN_HIGH</td>\n",
       "      <td>Endometrioid Endometrial Adenocarcinoma</td>\n",
       "    </tr>\n",
       "    <tr>\n",
       "      <th>1</th>\n",
       "      <td>TCGA-4E-A92E</td>\n",
       "      <td>TCGA-4E-A92E-01</td>\n",
       "      <td>Uterine Endometrioid Carcinoma</td>\n",
       "      <td>0:LIVING</td>\n",
       "      <td>0:DiseaseFree</td>\n",
       "      <td>0:ALIVE OR DEAD TUMOR FREE</td>\n",
       "      <td>147.0</td>\n",
       "      <td>0.0341</td>\n",
       "      <td>54.0</td>\n",
       "      <td>0.3396</td>\n",
       "      <td>0.01</td>\n",
       "      <td>Black or African American</td>\n",
       "      <td>UCEC_CN_LOW</td>\n",
       "      <td>Endometrioid Endometrial Adenocarcinoma</td>\n",
       "    </tr>\n",
       "    <tr>\n",
       "      <th>2</th>\n",
       "      <td>TCGA-5B-A90C</td>\n",
       "      <td>TCGA-5B-A90C-01</td>\n",
       "      <td>Uterine Endometrioid Carcinoma</td>\n",
       "      <td>0:LIVING</td>\n",
       "      <td>NaN</td>\n",
       "      <td>0:ALIVE OR DEAD TUMOR FREE</td>\n",
       "      <td>45.0</td>\n",
       "      <td>0.6903</td>\n",
       "      <td>69.0</td>\n",
       "      <td>0.3344</td>\n",
       "      <td>0.55</td>\n",
       "      <td>Black or African American</td>\n",
       "      <td>UCEC_CN_HIGH</td>\n",
       "      <td>Endometrioid Endometrial Adenocarcinoma</td>\n",
       "    </tr>\n",
       "    <tr>\n",
       "      <th>3</th>\n",
       "      <td>TCGA-5S-A9Q8</td>\n",
       "      <td>TCGA-5S-A9Q8-01</td>\n",
       "      <td>Uterine Endometrioid Carcinoma</td>\n",
       "      <td>0:LIVING</td>\n",
       "      <td>0:DiseaseFree</td>\n",
       "      <td>0:ALIVE OR DEAD TUMOR FREE</td>\n",
       "      <td>50.0</td>\n",
       "      <td>0.0581</td>\n",
       "      <td>51.0</td>\n",
       "      <td>0.3199</td>\n",
       "      <td>0.09</td>\n",
       "      <td>Black or African American</td>\n",
       "      <td>UCEC_CN_LOW</td>\n",
       "      <td>Endometrioid Endometrial Adenocarcinoma</td>\n",
       "    </tr>\n",
       "    <tr>\n",
       "      <th>4</th>\n",
       "      <td>TCGA-A5-A0G1</td>\n",
       "      <td>TCGA-A5-A0G1-01</td>\n",
       "      <td>Uterine Serous Carcinoma/Uterine Papillary Ser...</td>\n",
       "      <td>1:DECEASED</td>\n",
       "      <td>0:DiseaseFree</td>\n",
       "      <td>0:ALIVE OR DEAD TUMOR FREE</td>\n",
       "      <td>10808.0</td>\n",
       "      <td>0.0001</td>\n",
       "      <td>67.0</td>\n",
       "      <td>0.3108</td>\n",
       "      <td>1.74</td>\n",
       "      <td>White</td>\n",
       "      <td>UCEC_POLE</td>\n",
       "      <td>Serous Endometrial Adenocarcinoma</td>\n",
       "    </tr>\n",
       "    <tr>\n",
       "      <th>...</th>\n",
       "      <td>...</td>\n",
       "      <td>...</td>\n",
       "      <td>...</td>\n",
       "      <td>...</td>\n",
       "      <td>...</td>\n",
       "      <td>...</td>\n",
       "      <td>...</td>\n",
       "      <td>...</td>\n",
       "      <td>...</td>\n",
       "      <td>...</td>\n",
       "      <td>...</td>\n",
       "      <td>...</td>\n",
       "      <td>...</td>\n",
       "      <td>...</td>\n",
       "    </tr>\n",
       "    <tr>\n",
       "      <th>524</th>\n",
       "      <td>TCGA-QS-A8F1</td>\n",
       "      <td>TCGA-QS-A8F1-01</td>\n",
       "      <td>Uterine Serous Carcinoma/Uterine Papillary Ser...</td>\n",
       "      <td>1:DECEASED</td>\n",
       "      <td>NaN</td>\n",
       "      <td>1:DEAD WITH TUMOR</td>\n",
       "      <td>63.0</td>\n",
       "      <td>0.6549</td>\n",
       "      <td>85.0</td>\n",
       "      <td>0.3647</td>\n",
       "      <td>0.15</td>\n",
       "      <td>Black or African American</td>\n",
       "      <td>UCEC_CN_HIGH</td>\n",
       "      <td>Serous Endometrial Adenocarcinoma</td>\n",
       "    </tr>\n",
       "    <tr>\n",
       "      <th>525</th>\n",
       "      <td>TCGA-SJ-A6ZI</td>\n",
       "      <td>TCGA-SJ-A6ZI-01</td>\n",
       "      <td>Uterine Endometrioid Carcinoma</td>\n",
       "      <td>0:LIVING</td>\n",
       "      <td>0:DiseaseFree</td>\n",
       "      <td>0:ALIVE OR DEAD TUMOR FREE</td>\n",
       "      <td>1306.0</td>\n",
       "      <td>0.0275</td>\n",
       "      <td>64.0</td>\n",
       "      <td>0.6138</td>\n",
       "      <td>14.35</td>\n",
       "      <td>Black or African American</td>\n",
       "      <td>UCEC_MSI</td>\n",
       "      <td>Endometrioid Endometrial Adenocarcinoma</td>\n",
       "    </tr>\n",
       "    <tr>\n",
       "      <th>526</th>\n",
       "      <td>TCGA-SJ-A6ZJ</td>\n",
       "      <td>TCGA-SJ-A6ZJ-01</td>\n",
       "      <td>Uterine Endometrioid Carcinoma</td>\n",
       "      <td>0:LIVING</td>\n",
       "      <td>0:DiseaseFree</td>\n",
       "      <td>0:ALIVE OR DEAD TUMOR FREE</td>\n",
       "      <td>56.0</td>\n",
       "      <td>0.0466</td>\n",
       "      <td>61.0</td>\n",
       "      <td>0.3382</td>\n",
       "      <td>0.00</td>\n",
       "      <td>Black or African American</td>\n",
       "      <td>UCEC_CN_LOW</td>\n",
       "      <td>Endometrioid Endometrial Adenocarcinoma</td>\n",
       "    </tr>\n",
       "    <tr>\n",
       "      <th>527</th>\n",
       "      <td>TCGA-SL-A6J9</td>\n",
       "      <td>TCGA-SL-A6J9-01</td>\n",
       "      <td>Uterine Endometrioid Carcinoma</td>\n",
       "      <td>0:LIVING</td>\n",
       "      <td>NaN</td>\n",
       "      <td>0:ALIVE OR DEAD TUMOR FREE</td>\n",
       "      <td>48.0</td>\n",
       "      <td>0.4226</td>\n",
       "      <td>73.0</td>\n",
       "      <td>0.3503</td>\n",
       "      <td>0.03</td>\n",
       "      <td>Black or African American</td>\n",
       "      <td>UCEC_CN_HIGH</td>\n",
       "      <td>Endometrioid Endometrial Adenocarcinoma</td>\n",
       "    </tr>\n",
       "    <tr>\n",
       "      <th>528</th>\n",
       "      <td>TCGA-SL-A6JA</td>\n",
       "      <td>TCGA-SL-A6JA-01</td>\n",
       "      <td>Uterine Endometrioid Carcinoma</td>\n",
       "      <td>0:LIVING</td>\n",
       "      <td>0:DiseaseFree</td>\n",
       "      <td>0:ALIVE OR DEAD TUMOR FREE</td>\n",
       "      <td>742.0</td>\n",
       "      <td>0.0488</td>\n",
       "      <td>77.0</td>\n",
       "      <td>0.9515</td>\n",
       "      <td>26.10</td>\n",
       "      <td>Black or African American</td>\n",
       "      <td>UCEC_MSI</td>\n",
       "      <td>Endometrioid Endometrial Adenocarcinoma</td>\n",
       "    </tr>\n",
       "  </tbody>\n",
       "</table>\n",
       "<p>529 rows × 14 columns</p>\n",
       "</div>"
      ],
      "text/plain": [
       "       Patient ID        Sample ID  \\\n",
       "0    TCGA-2E-A9G8  TCGA-2E-A9G8-01   \n",
       "1    TCGA-4E-A92E  TCGA-4E-A92E-01   \n",
       "2    TCGA-5B-A90C  TCGA-5B-A90C-01   \n",
       "3    TCGA-5S-A9Q8  TCGA-5S-A9Q8-01   \n",
       "4    TCGA-A5-A0G1  TCGA-A5-A0G1-01   \n",
       "..            ...              ...   \n",
       "524  TCGA-QS-A8F1  TCGA-QS-A8F1-01   \n",
       "525  TCGA-SJ-A6ZI  TCGA-SJ-A6ZI-01   \n",
       "526  TCGA-SJ-A6ZJ  TCGA-SJ-A6ZJ-01   \n",
       "527  TCGA-SL-A6J9  TCGA-SL-A6J9-01   \n",
       "528  TCGA-SL-A6JA  TCGA-SL-A6JA-01   \n",
       "\n",
       "                                  Cancer Type Detailed  \\\n",
       "0                       Uterine Endometrioid Carcinoma   \n",
       "1                       Uterine Endometrioid Carcinoma   \n",
       "2                       Uterine Endometrioid Carcinoma   \n",
       "3                       Uterine Endometrioid Carcinoma   \n",
       "4    Uterine Serous Carcinoma/Uterine Papillary Ser...   \n",
       "..                                                 ...   \n",
       "524  Uterine Serous Carcinoma/Uterine Papillary Ser...   \n",
       "525                     Uterine Endometrioid Carcinoma   \n",
       "526                     Uterine Endometrioid Carcinoma   \n",
       "527                     Uterine Endometrioid Carcinoma   \n",
       "528                     Uterine Endometrioid Carcinoma   \n",
       "\n",
       "    Overall Survival Status Disease Free Status  \\\n",
       "0                  0:LIVING                 NaN   \n",
       "1                  0:LIVING       0:DiseaseFree   \n",
       "2                  0:LIVING                 NaN   \n",
       "3                  0:LIVING       0:DiseaseFree   \n",
       "4                1:DECEASED       0:DiseaseFree   \n",
       "..                      ...                 ...   \n",
       "524              1:DECEASED                 NaN   \n",
       "525                0:LIVING       0:DiseaseFree   \n",
       "526                0:LIVING       0:DiseaseFree   \n",
       "527                0:LIVING                 NaN   \n",
       "528                0:LIVING       0:DiseaseFree   \n",
       "\n",
       "    Disease-specific Survival status  Mutation Count  Fraction Genome Altered  \\\n",
       "0         0:ALIVE OR DEAD TUMOR FREE            65.0                   0.3311   \n",
       "1         0:ALIVE OR DEAD TUMOR FREE           147.0                   0.0341   \n",
       "2         0:ALIVE OR DEAD TUMOR FREE            45.0                   0.6903   \n",
       "3         0:ALIVE OR DEAD TUMOR FREE            50.0                   0.0581   \n",
       "4         0:ALIVE OR DEAD TUMOR FREE         10808.0                   0.0001   \n",
       "..                               ...             ...                      ...   \n",
       "524                1:DEAD WITH TUMOR            63.0                   0.6549   \n",
       "525       0:ALIVE OR DEAD TUMOR FREE          1306.0                   0.0275   \n",
       "526       0:ALIVE OR DEAD TUMOR FREE            56.0                   0.0466   \n",
       "527       0:ALIVE OR DEAD TUMOR FREE            48.0                   0.4226   \n",
       "528       0:ALIVE OR DEAD TUMOR FREE           742.0                   0.0488   \n",
       "\n",
       "     Diagnosis Age  MSI MANTIS Score  MSIsensor Score  \\\n",
       "0             59.0            0.3234             0.85   \n",
       "1             54.0            0.3396             0.01   \n",
       "2             69.0            0.3344             0.55   \n",
       "3             51.0            0.3199             0.09   \n",
       "4             67.0            0.3108             1.74   \n",
       "..             ...               ...              ...   \n",
       "524           85.0            0.3647             0.15   \n",
       "525           64.0            0.6138            14.35   \n",
       "526           61.0            0.3382             0.00   \n",
       "527           73.0            0.3503             0.03   \n",
       "528           77.0            0.9515            26.10   \n",
       "\n",
       "                 Race Category       Subtype  \\\n",
       "0    Black or African American  UCEC_CN_HIGH   \n",
       "1    Black or African American   UCEC_CN_LOW   \n",
       "2    Black or African American  UCEC_CN_HIGH   \n",
       "3    Black or African American   UCEC_CN_LOW   \n",
       "4                        White     UCEC_POLE   \n",
       "..                         ...           ...   \n",
       "524  Black or African American  UCEC_CN_HIGH   \n",
       "525  Black or African American      UCEC_MSI   \n",
       "526  Black or African American   UCEC_CN_LOW   \n",
       "527  Black or African American  UCEC_CN_HIGH   \n",
       "528  Black or African American      UCEC_MSI   \n",
       "\n",
       "                                  Tumor Type  \n",
       "0    Endometrioid Endometrial Adenocarcinoma  \n",
       "1    Endometrioid Endometrial Adenocarcinoma  \n",
       "2    Endometrioid Endometrial Adenocarcinoma  \n",
       "3    Endometrioid Endometrial Adenocarcinoma  \n",
       "4          Serous Endometrial Adenocarcinoma  \n",
       "..                                       ...  \n",
       "524        Serous Endometrial Adenocarcinoma  \n",
       "525  Endometrioid Endometrial Adenocarcinoma  \n",
       "526  Endometrioid Endometrial Adenocarcinoma  \n",
       "527  Endometrioid Endometrial Adenocarcinoma  \n",
       "528  Endometrioid Endometrial Adenocarcinoma  \n",
       "\n",
       "[529 rows x 14 columns]"
      ]
     },
     "execution_count": 2,
     "metadata": {},
     "output_type": "execute_result"
    }
   ],
   "source": [
    "#load the dataset\n",
    "#Read the dataset in data varaible\n",
    "\n",
    "data = pd.read_csv(r\"D:\\PYTHON\\Uterine Corpus Endometrial Carcinoma dataset.csv\")\n",
    "data"
   ]
  },
  {
   "cell_type": "code",
   "execution_count": 4,
   "id": "d125cb6e",
   "metadata": {},
   "outputs": [
    {
     "data": {
      "text/html": [
       "<div>\n",
       "<style scoped>\n",
       "    .dataframe tbody tr th:only-of-type {\n",
       "        vertical-align: middle;\n",
       "    }\n",
       "\n",
       "    .dataframe tbody tr th {\n",
       "        vertical-align: top;\n",
       "    }\n",
       "\n",
       "    .dataframe thead th {\n",
       "        text-align: right;\n",
       "    }\n",
       "</style>\n",
       "<table border=\"1\" class=\"dataframe\">\n",
       "  <thead>\n",
       "    <tr style=\"text-align: right;\">\n",
       "      <th></th>\n",
       "      <th>Patient ID</th>\n",
       "      <th>Sample ID</th>\n",
       "      <th>Cancer Type Detailed</th>\n",
       "      <th>Overall Survival Status</th>\n",
       "      <th>Disease Free Status</th>\n",
       "      <th>Disease-specific Survival status</th>\n",
       "      <th>Mutation Count</th>\n",
       "      <th>Fraction Genome Altered</th>\n",
       "      <th>Diagnosis Age</th>\n",
       "      <th>MSI MANTIS Score</th>\n",
       "      <th>MSIsensor Score</th>\n",
       "      <th>Race Category</th>\n",
       "      <th>Subtype</th>\n",
       "      <th>Tumor Type</th>\n",
       "    </tr>\n",
       "  </thead>\n",
       "  <tbody>\n",
       "    <tr>\n",
       "      <th>0</th>\n",
       "      <td>TCGA-2E-A9G8</td>\n",
       "      <td>TCGA-2E-A9G8-01</td>\n",
       "      <td>Uterine Endometrioid Carcinoma</td>\n",
       "      <td>0:LIVING</td>\n",
       "      <td>NaN</td>\n",
       "      <td>0:ALIVE OR DEAD TUMOR FREE</td>\n",
       "      <td>65.0</td>\n",
       "      <td>0.3311</td>\n",
       "      <td>59.0</td>\n",
       "      <td>0.3234</td>\n",
       "      <td>0.85</td>\n",
       "      <td>Black or African American</td>\n",
       "      <td>UCEC_CN_HIGH</td>\n",
       "      <td>Endometrioid Endometrial Adenocarcinoma</td>\n",
       "    </tr>\n",
       "    <tr>\n",
       "      <th>1</th>\n",
       "      <td>TCGA-4E-A92E</td>\n",
       "      <td>TCGA-4E-A92E-01</td>\n",
       "      <td>Uterine Endometrioid Carcinoma</td>\n",
       "      <td>0:LIVING</td>\n",
       "      <td>0:DiseaseFree</td>\n",
       "      <td>0:ALIVE OR DEAD TUMOR FREE</td>\n",
       "      <td>147.0</td>\n",
       "      <td>0.0341</td>\n",
       "      <td>54.0</td>\n",
       "      <td>0.3396</td>\n",
       "      <td>0.01</td>\n",
       "      <td>Black or African American</td>\n",
       "      <td>UCEC_CN_LOW</td>\n",
       "      <td>Endometrioid Endometrial Adenocarcinoma</td>\n",
       "    </tr>\n",
       "    <tr>\n",
       "      <th>2</th>\n",
       "      <td>TCGA-5B-A90C</td>\n",
       "      <td>TCGA-5B-A90C-01</td>\n",
       "      <td>Uterine Endometrioid Carcinoma</td>\n",
       "      <td>0:LIVING</td>\n",
       "      <td>NaN</td>\n",
       "      <td>0:ALIVE OR DEAD TUMOR FREE</td>\n",
       "      <td>45.0</td>\n",
       "      <td>0.6903</td>\n",
       "      <td>69.0</td>\n",
       "      <td>0.3344</td>\n",
       "      <td>0.55</td>\n",
       "      <td>Black or African American</td>\n",
       "      <td>UCEC_CN_HIGH</td>\n",
       "      <td>Endometrioid Endometrial Adenocarcinoma</td>\n",
       "    </tr>\n",
       "    <tr>\n",
       "      <th>3</th>\n",
       "      <td>TCGA-5S-A9Q8</td>\n",
       "      <td>TCGA-5S-A9Q8-01</td>\n",
       "      <td>Uterine Endometrioid Carcinoma</td>\n",
       "      <td>0:LIVING</td>\n",
       "      <td>0:DiseaseFree</td>\n",
       "      <td>0:ALIVE OR DEAD TUMOR FREE</td>\n",
       "      <td>50.0</td>\n",
       "      <td>0.0581</td>\n",
       "      <td>51.0</td>\n",
       "      <td>0.3199</td>\n",
       "      <td>0.09</td>\n",
       "      <td>Black or African American</td>\n",
       "      <td>UCEC_CN_LOW</td>\n",
       "      <td>Endometrioid Endometrial Adenocarcinoma</td>\n",
       "    </tr>\n",
       "    <tr>\n",
       "      <th>4</th>\n",
       "      <td>TCGA-A5-A0G1</td>\n",
       "      <td>TCGA-A5-A0G1-01</td>\n",
       "      <td>Uterine Serous Carcinoma/Uterine Papillary Ser...</td>\n",
       "      <td>1:DECEASED</td>\n",
       "      <td>0:DiseaseFree</td>\n",
       "      <td>0:ALIVE OR DEAD TUMOR FREE</td>\n",
       "      <td>10808.0</td>\n",
       "      <td>0.0001</td>\n",
       "      <td>67.0</td>\n",
       "      <td>0.3108</td>\n",
       "      <td>1.74</td>\n",
       "      <td>White</td>\n",
       "      <td>UCEC_POLE</td>\n",
       "      <td>Serous Endometrial Adenocarcinoma</td>\n",
       "    </tr>\n",
       "  </tbody>\n",
       "</table>\n",
       "</div>"
      ],
      "text/plain": [
       "     Patient ID        Sample ID  \\\n",
       "0  TCGA-2E-A9G8  TCGA-2E-A9G8-01   \n",
       "1  TCGA-4E-A92E  TCGA-4E-A92E-01   \n",
       "2  TCGA-5B-A90C  TCGA-5B-A90C-01   \n",
       "3  TCGA-5S-A9Q8  TCGA-5S-A9Q8-01   \n",
       "4  TCGA-A5-A0G1  TCGA-A5-A0G1-01   \n",
       "\n",
       "                                Cancer Type Detailed Overall Survival Status  \\\n",
       "0                     Uterine Endometrioid Carcinoma                0:LIVING   \n",
       "1                     Uterine Endometrioid Carcinoma                0:LIVING   \n",
       "2                     Uterine Endometrioid Carcinoma                0:LIVING   \n",
       "3                     Uterine Endometrioid Carcinoma                0:LIVING   \n",
       "4  Uterine Serous Carcinoma/Uterine Papillary Ser...              1:DECEASED   \n",
       "\n",
       "  Disease Free Status Disease-specific Survival status  Mutation Count  \\\n",
       "0                 NaN       0:ALIVE OR DEAD TUMOR FREE            65.0   \n",
       "1       0:DiseaseFree       0:ALIVE OR DEAD TUMOR FREE           147.0   \n",
       "2                 NaN       0:ALIVE OR DEAD TUMOR FREE            45.0   \n",
       "3       0:DiseaseFree       0:ALIVE OR DEAD TUMOR FREE            50.0   \n",
       "4       0:DiseaseFree       0:ALIVE OR DEAD TUMOR FREE         10808.0   \n",
       "\n",
       "   Fraction Genome Altered  Diagnosis Age  MSI MANTIS Score  MSIsensor Score  \\\n",
       "0                   0.3311           59.0            0.3234             0.85   \n",
       "1                   0.0341           54.0            0.3396             0.01   \n",
       "2                   0.6903           69.0            0.3344             0.55   \n",
       "3                   0.0581           51.0            0.3199             0.09   \n",
       "4                   0.0001           67.0            0.3108             1.74   \n",
       "\n",
       "               Race Category       Subtype  \\\n",
       "0  Black or African American  UCEC_CN_HIGH   \n",
       "1  Black or African American   UCEC_CN_LOW   \n",
       "2  Black or African American  UCEC_CN_HIGH   \n",
       "3  Black or African American   UCEC_CN_LOW   \n",
       "4                      White     UCEC_POLE   \n",
       "\n",
       "                                Tumor Type  \n",
       "0  Endometrioid Endometrial Adenocarcinoma  \n",
       "1  Endometrioid Endometrial Adenocarcinoma  \n",
       "2  Endometrioid Endometrial Adenocarcinoma  \n",
       "3  Endometrioid Endometrial Adenocarcinoma  \n",
       "4        Serous Endometrial Adenocarcinoma  "
      ]
     },
     "execution_count": 4,
     "metadata": {},
     "output_type": "execute_result"
    }
   ],
   "source": [
    "\n",
    "#Show the first 5 rows of the dataset\n",
    "\n",
    "data.head()"
   ]
  },
  {
   "cell_type": "code",
   "execution_count": 5,
   "id": "e668681f",
   "metadata": {},
   "outputs": [
    {
     "data": {
      "text/html": [
       "<div>\n",
       "<style scoped>\n",
       "    .dataframe tbody tr th:only-of-type {\n",
       "        vertical-align: middle;\n",
       "    }\n",
       "\n",
       "    .dataframe tbody tr th {\n",
       "        vertical-align: top;\n",
       "    }\n",
       "\n",
       "    .dataframe thead th {\n",
       "        text-align: right;\n",
       "    }\n",
       "</style>\n",
       "<table border=\"1\" class=\"dataframe\">\n",
       "  <thead>\n",
       "    <tr style=\"text-align: right;\">\n",
       "      <th></th>\n",
       "      <th>Patient ID</th>\n",
       "      <th>Sample ID</th>\n",
       "      <th>Cancer Type Detailed</th>\n",
       "      <th>Overall Survival Status</th>\n",
       "      <th>Disease Free Status</th>\n",
       "      <th>Disease-specific Survival status</th>\n",
       "      <th>Mutation Count</th>\n",
       "      <th>Fraction Genome Altered</th>\n",
       "      <th>Diagnosis Age</th>\n",
       "      <th>MSI MANTIS Score</th>\n",
       "      <th>MSIsensor Score</th>\n",
       "      <th>Race Category</th>\n",
       "      <th>Subtype</th>\n",
       "      <th>Tumor Type</th>\n",
       "    </tr>\n",
       "  </thead>\n",
       "  <tbody>\n",
       "    <tr>\n",
       "      <th>524</th>\n",
       "      <td>TCGA-QS-A8F1</td>\n",
       "      <td>TCGA-QS-A8F1-01</td>\n",
       "      <td>Uterine Serous Carcinoma/Uterine Papillary Ser...</td>\n",
       "      <td>1:DECEASED</td>\n",
       "      <td>NaN</td>\n",
       "      <td>1:DEAD WITH TUMOR</td>\n",
       "      <td>63.0</td>\n",
       "      <td>0.6549</td>\n",
       "      <td>85.0</td>\n",
       "      <td>0.3647</td>\n",
       "      <td>0.15</td>\n",
       "      <td>Black or African American</td>\n",
       "      <td>UCEC_CN_HIGH</td>\n",
       "      <td>Serous Endometrial Adenocarcinoma</td>\n",
       "    </tr>\n",
       "    <tr>\n",
       "      <th>525</th>\n",
       "      <td>TCGA-SJ-A6ZI</td>\n",
       "      <td>TCGA-SJ-A6ZI-01</td>\n",
       "      <td>Uterine Endometrioid Carcinoma</td>\n",
       "      <td>0:LIVING</td>\n",
       "      <td>0:DiseaseFree</td>\n",
       "      <td>0:ALIVE OR DEAD TUMOR FREE</td>\n",
       "      <td>1306.0</td>\n",
       "      <td>0.0275</td>\n",
       "      <td>64.0</td>\n",
       "      <td>0.6138</td>\n",
       "      <td>14.35</td>\n",
       "      <td>Black or African American</td>\n",
       "      <td>UCEC_MSI</td>\n",
       "      <td>Endometrioid Endometrial Adenocarcinoma</td>\n",
       "    </tr>\n",
       "    <tr>\n",
       "      <th>526</th>\n",
       "      <td>TCGA-SJ-A6ZJ</td>\n",
       "      <td>TCGA-SJ-A6ZJ-01</td>\n",
       "      <td>Uterine Endometrioid Carcinoma</td>\n",
       "      <td>0:LIVING</td>\n",
       "      <td>0:DiseaseFree</td>\n",
       "      <td>0:ALIVE OR DEAD TUMOR FREE</td>\n",
       "      <td>56.0</td>\n",
       "      <td>0.0466</td>\n",
       "      <td>61.0</td>\n",
       "      <td>0.3382</td>\n",
       "      <td>0.00</td>\n",
       "      <td>Black or African American</td>\n",
       "      <td>UCEC_CN_LOW</td>\n",
       "      <td>Endometrioid Endometrial Adenocarcinoma</td>\n",
       "    </tr>\n",
       "    <tr>\n",
       "      <th>527</th>\n",
       "      <td>TCGA-SL-A6J9</td>\n",
       "      <td>TCGA-SL-A6J9-01</td>\n",
       "      <td>Uterine Endometrioid Carcinoma</td>\n",
       "      <td>0:LIVING</td>\n",
       "      <td>NaN</td>\n",
       "      <td>0:ALIVE OR DEAD TUMOR FREE</td>\n",
       "      <td>48.0</td>\n",
       "      <td>0.4226</td>\n",
       "      <td>73.0</td>\n",
       "      <td>0.3503</td>\n",
       "      <td>0.03</td>\n",
       "      <td>Black or African American</td>\n",
       "      <td>UCEC_CN_HIGH</td>\n",
       "      <td>Endometrioid Endometrial Adenocarcinoma</td>\n",
       "    </tr>\n",
       "    <tr>\n",
       "      <th>528</th>\n",
       "      <td>TCGA-SL-A6JA</td>\n",
       "      <td>TCGA-SL-A6JA-01</td>\n",
       "      <td>Uterine Endometrioid Carcinoma</td>\n",
       "      <td>0:LIVING</td>\n",
       "      <td>0:DiseaseFree</td>\n",
       "      <td>0:ALIVE OR DEAD TUMOR FREE</td>\n",
       "      <td>742.0</td>\n",
       "      <td>0.0488</td>\n",
       "      <td>77.0</td>\n",
       "      <td>0.9515</td>\n",
       "      <td>26.10</td>\n",
       "      <td>Black or African American</td>\n",
       "      <td>UCEC_MSI</td>\n",
       "      <td>Endometrioid Endometrial Adenocarcinoma</td>\n",
       "    </tr>\n",
       "  </tbody>\n",
       "</table>\n",
       "</div>"
      ],
      "text/plain": [
       "       Patient ID        Sample ID  \\\n",
       "524  TCGA-QS-A8F1  TCGA-QS-A8F1-01   \n",
       "525  TCGA-SJ-A6ZI  TCGA-SJ-A6ZI-01   \n",
       "526  TCGA-SJ-A6ZJ  TCGA-SJ-A6ZJ-01   \n",
       "527  TCGA-SL-A6J9  TCGA-SL-A6J9-01   \n",
       "528  TCGA-SL-A6JA  TCGA-SL-A6JA-01   \n",
       "\n",
       "                                  Cancer Type Detailed  \\\n",
       "524  Uterine Serous Carcinoma/Uterine Papillary Ser...   \n",
       "525                     Uterine Endometrioid Carcinoma   \n",
       "526                     Uterine Endometrioid Carcinoma   \n",
       "527                     Uterine Endometrioid Carcinoma   \n",
       "528                     Uterine Endometrioid Carcinoma   \n",
       "\n",
       "    Overall Survival Status Disease Free Status  \\\n",
       "524              1:DECEASED                 NaN   \n",
       "525                0:LIVING       0:DiseaseFree   \n",
       "526                0:LIVING       0:DiseaseFree   \n",
       "527                0:LIVING                 NaN   \n",
       "528                0:LIVING       0:DiseaseFree   \n",
       "\n",
       "    Disease-specific Survival status  Mutation Count  Fraction Genome Altered  \\\n",
       "524                1:DEAD WITH TUMOR            63.0                   0.6549   \n",
       "525       0:ALIVE OR DEAD TUMOR FREE          1306.0                   0.0275   \n",
       "526       0:ALIVE OR DEAD TUMOR FREE            56.0                   0.0466   \n",
       "527       0:ALIVE OR DEAD TUMOR FREE            48.0                   0.4226   \n",
       "528       0:ALIVE OR DEAD TUMOR FREE           742.0                   0.0488   \n",
       "\n",
       "     Diagnosis Age  MSI MANTIS Score  MSIsensor Score  \\\n",
       "524           85.0            0.3647             0.15   \n",
       "525           64.0            0.6138            14.35   \n",
       "526           61.0            0.3382             0.00   \n",
       "527           73.0            0.3503             0.03   \n",
       "528           77.0            0.9515            26.10   \n",
       "\n",
       "                 Race Category       Subtype  \\\n",
       "524  Black or African American  UCEC_CN_HIGH   \n",
       "525  Black or African American      UCEC_MSI   \n",
       "526  Black or African American   UCEC_CN_LOW   \n",
       "527  Black or African American  UCEC_CN_HIGH   \n",
       "528  Black or African American      UCEC_MSI   \n",
       "\n",
       "                                  Tumor Type  \n",
       "524        Serous Endometrial Adenocarcinoma  \n",
       "525  Endometrioid Endometrial Adenocarcinoma  \n",
       "526  Endometrioid Endometrial Adenocarcinoma  \n",
       "527  Endometrioid Endometrial Adenocarcinoma  \n",
       "528  Endometrioid Endometrial Adenocarcinoma  "
      ]
     },
     "execution_count": 5,
     "metadata": {},
     "output_type": "execute_result"
    }
   ],
   "source": [
    "#Show the last 5 rows of the dataset\n",
    "\n",
    "data.tail()"
   ]
  },
  {
   "cell_type": "code",
   "execution_count": 6,
   "id": "9a7689f4",
   "metadata": {},
   "outputs": [
    {
     "name": "stdout",
     "output_type": "stream",
     "text": [
      "Patient ID\n",
      "Sample ID\n",
      "Cancer Type Detailed\n",
      "Overall Survival Status\n",
      "Disease Free Status\n",
      "Disease-specific Survival status\n",
      "Mutation Count\n",
      "Fraction Genome Altered\n",
      "Diagnosis Age\n",
      "MSI MANTIS Score\n",
      "MSIsensor Score\n",
      "Race Category\n",
      "Subtype\n",
      "Tumor Type\n"
     ]
    }
   ],
   "source": [
    "\n",
    "# List of column names\n",
    "\n",
    "for col in list(data.columns):\n",
    "    print(col)"
   ]
  },
  {
   "cell_type": "code",
   "execution_count": 7,
   "id": "18eb88f2",
   "metadata": {},
   "outputs": [
    {
     "name": "stdout",
     "output_type": "stream",
     "text": [
      "Number of rows: 529\n",
      "Number of columns: 14\n"
     ]
    }
   ],
   "source": [
    "#gives the size/shape of the dataset\n",
    "#How many columns and rows are there in the dataset.\n",
    "\n",
    "num_rows, num_columns = data.shape\n",
    "\n",
    "print(\"Number of rows:\", num_rows)\n",
    "print(\"Number of columns:\", num_columns)"
   ]
  },
  {
   "cell_type": "code",
   "execution_count": 10,
   "id": "21946a8b",
   "metadata": {},
   "outputs": [
    {
     "data": {
      "text/plain": [
       "Patient ID                           object\n",
       "Sample ID                            object\n",
       "Cancer Type Detailed                 object\n",
       "Overall Survival Status              object\n",
       "Disease Free Status                  object\n",
       "Disease-specific Survival status     object\n",
       "Mutation Count                      float64\n",
       "Fraction Genome Altered             float64\n",
       "Diagnosis Age                       float64\n",
       "MSI MANTIS Score                    float64\n",
       "MSIsensor Score                     float64\n",
       "Race Category                        object\n",
       "Subtype                              object\n",
       "Tumor Type                           object\n",
       "dtype: object"
      ]
     },
     "execution_count": 10,
     "metadata": {},
     "output_type": "execute_result"
    }
   ],
   "source": [
    "#Check the data type of dataframe pcos\n",
    "data.dtypes"
   ]
  },
  {
   "cell_type": "code",
   "execution_count": 11,
   "id": "77be34a4",
   "metadata": {},
   "outputs": [
    {
     "name": "stdout",
     "output_type": "stream",
     "text": [
      "<class 'pandas.core.frame.DataFrame'>\n",
      "RangeIndex: 529 entries, 0 to 528\n",
      "Data columns (total 14 columns):\n",
      " #   Column                            Non-Null Count  Dtype  \n",
      "---  ------                            --------------  -----  \n",
      " 0   Patient ID                        529 non-null    object \n",
      " 1   Sample ID                         529 non-null    object \n",
      " 2   Cancer Type Detailed              529 non-null    object \n",
      " 3   Overall Survival Status           529 non-null    object \n",
      " 4   Disease Free Status               414 non-null    object \n",
      " 5   Disease-specific Survival status  527 non-null    object \n",
      " 6   Mutation Count                    515 non-null    float64\n",
      " 7   Fraction Genome Altered           519 non-null    float64\n",
      " 8   Diagnosis Age                     526 non-null    float64\n",
      " 9   MSI MANTIS Score                  526 non-null    float64\n",
      " 10  MSIsensor Score                   528 non-null    float64\n",
      " 11  Race Category                     497 non-null    object \n",
      " 12  Subtype                           507 non-null    object \n",
      " 13  Tumor Type                        529 non-null    object \n",
      "dtypes: float64(5), object(9)\n",
      "memory usage: 58.0+ KB\n"
     ]
    }
   ],
   "source": [
    "#Information about the dataset\n",
    "#This method prints information about a DataFrame including the index dtype and columns, non-null values and memory usage. \n",
    "\n",
    "data.info()\n"
   ]
  },
  {
   "cell_type": "code",
   "execution_count": 12,
   "id": "bfb8dc6f",
   "metadata": {
    "scrolled": true
   },
   "outputs": [
    {
     "data": {
      "text/html": [
       "<div>\n",
       "<style scoped>\n",
       "    .dataframe tbody tr th:only-of-type {\n",
       "        vertical-align: middle;\n",
       "    }\n",
       "\n",
       "    .dataframe tbody tr th {\n",
       "        vertical-align: top;\n",
       "    }\n",
       "\n",
       "    .dataframe thead th {\n",
       "        text-align: right;\n",
       "    }\n",
       "</style>\n",
       "<table border=\"1\" class=\"dataframe\">\n",
       "  <thead>\n",
       "    <tr style=\"text-align: right;\">\n",
       "      <th></th>\n",
       "      <th>count</th>\n",
       "      <th>mean</th>\n",
       "      <th>std</th>\n",
       "      <th>min</th>\n",
       "      <th>25%</th>\n",
       "      <th>50%</th>\n",
       "      <th>75%</th>\n",
       "      <th>max</th>\n",
       "    </tr>\n",
       "  </thead>\n",
       "  <tbody>\n",
       "    <tr>\n",
       "      <th>Mutation Count</th>\n",
       "      <td>515.0</td>\n",
       "      <td>1046.423301</td>\n",
       "      <td>2734.365494</td>\n",
       "      <td>7.000</td>\n",
       "      <td>47.00000</td>\n",
       "      <td>76.0000</td>\n",
       "      <td>563.500000</td>\n",
       "      <td>25696.0000</td>\n",
       "    </tr>\n",
       "    <tr>\n",
       "      <th>Fraction Genome Altered</th>\n",
       "      <td>519.0</td>\n",
       "      <td>0.185959</td>\n",
       "      <td>0.226088</td>\n",
       "      <td>0.000</td>\n",
       "      <td>0.00360</td>\n",
       "      <td>0.0678</td>\n",
       "      <td>0.314450</td>\n",
       "      <td>0.9487</td>\n",
       "    </tr>\n",
       "    <tr>\n",
       "      <th>Diagnosis Age</th>\n",
       "      <td>526.0</td>\n",
       "      <td>63.766160</td>\n",
       "      <td>11.060030</td>\n",
       "      <td>31.000</td>\n",
       "      <td>57.00000</td>\n",
       "      <td>64.0000</td>\n",
       "      <td>71.000000</td>\n",
       "      <td>90.0000</td>\n",
       "    </tr>\n",
       "    <tr>\n",
       "      <th>MSI MANTIS Score</th>\n",
       "      <td>526.0</td>\n",
       "      <td>0.438948</td>\n",
       "      <td>0.239666</td>\n",
       "      <td>0.237</td>\n",
       "      <td>0.28395</td>\n",
       "      <td>0.3113</td>\n",
       "      <td>0.543225</td>\n",
       "      <td>1.3049</td>\n",
       "    </tr>\n",
       "    <tr>\n",
       "      <th>MSIsensor Score</th>\n",
       "      <td>528.0</td>\n",
       "      <td>6.395890</td>\n",
       "      <td>10.175853</td>\n",
       "      <td>0.000</td>\n",
       "      <td>0.11000</td>\n",
       "      <td>0.4350</td>\n",
       "      <td>10.117500</td>\n",
       "      <td>40.4300</td>\n",
       "    </tr>\n",
       "  </tbody>\n",
       "</table>\n",
       "</div>"
      ],
      "text/plain": [
       "                         count         mean          std     min       25%  \\\n",
       "Mutation Count           515.0  1046.423301  2734.365494   7.000  47.00000   \n",
       "Fraction Genome Altered  519.0     0.185959     0.226088   0.000   0.00360   \n",
       "Diagnosis Age            526.0    63.766160    11.060030  31.000  57.00000   \n",
       "MSI MANTIS Score         526.0     0.438948     0.239666   0.237   0.28395   \n",
       "MSIsensor Score          528.0     6.395890    10.175853   0.000   0.11000   \n",
       "\n",
       "                             50%         75%         max  \n",
       "Mutation Count           76.0000  563.500000  25696.0000  \n",
       "Fraction Genome Altered   0.0678    0.314450      0.9487  \n",
       "Diagnosis Age            64.0000   71.000000     90.0000  \n",
       "MSI MANTIS Score          0.3113    0.543225      1.3049  \n",
       "MSIsensor Score           0.4350   10.117500     40.4300  "
      ]
     },
     "execution_count": 12,
     "metadata": {},
     "output_type": "execute_result"
    }
   ],
   "source": [
    "\n",
    "#If we would like to get a statistical summary of each column, such as count, column mean value, column standard deviation, etc.\n",
    "#We use the describe method:\n",
    "\n",
    "data.describe().T"
   ]
  },
  {
   "cell_type": "code",
   "execution_count": 13,
   "id": "b931888d",
   "metadata": {},
   "outputs": [
    {
     "data": {
      "text/plain": [
       "Patient ID                            0\n",
       "Sample ID                             0\n",
       "Cancer Type Detailed                  0\n",
       "Overall Survival Status               0\n",
       "Disease Free Status                 115\n",
       "Disease-specific Survival status      2\n",
       "Mutation Count                       14\n",
       "Fraction Genome Altered              10\n",
       "Diagnosis Age                         3\n",
       "MSI MANTIS Score                      3\n",
       "MSIsensor Score                       1\n",
       "Race Category                        32\n",
       "Subtype                              22\n",
       "Tumor Type                            0\n",
       "dtype: int64"
      ]
     },
     "execution_count": 13,
     "metadata": {},
     "output_type": "execute_result"
    }
   ],
   "source": [
    "# check the null values present in dataset \n",
    "data.isnull().sum()"
   ]
  },
  {
   "cell_type": "markdown",
   "id": "0822b004",
   "metadata": {},
   "source": [
    "# matplotlib.pyplot, seaborn, and scipy.stats libraries are used for data visualization and statistical analysis. These are commonly used libraries in Python for such tasks.\n",
    "\n",
    "matplotlib.pyplot is a plotting library that provides a MATLAB-like interface for creating visualizations in Python.\n",
    "\n",
    "seaborn is a statistical data visualization library based on matplotlib. It provides a high-level interface for drawing attractive and informative statistical graphics.\n",
    "\n",
    "scipy.stats contains a large number of probability distributions and statistical functions. It's useful for statistical analysis and hypothesis testing.\n"
   ]
  },
  {
   "cell_type": "code",
   "execution_count": 15,
   "id": "63b47d52",
   "metadata": {},
   "outputs": [],
   "source": [
    "import matplotlib.pyplot as plt\n",
    "import seaborn as sns\n",
    "import scipy.stats as stats"
   ]
  },
  {
   "cell_type": "code",
   "execution_count": 23,
   "id": "ceb4c2c2",
   "metadata": {},
   "outputs": [
    {
     "data": {
      "text/plain": [
       "<Axes: xlabel='Diagnosis Age', ylabel='Count'>"
      ]
     },
     "execution_count": 23,
     "metadata": {},
     "output_type": "execute_result"
    },
    {
     "data": {
      "image/png": "[encoded data removed]",
      "text/plain": [
       "<Figure size 640x480 with 1 Axes>"
      ]
     },
     "metadata": {},
     "output_type": "display_data"
    }
   ],
   "source": [
    "sns.histplot(data['Diagnosis Age']) # histogram plot for Age-count"
   ]
  },
  {
   "cell_type": "code",
   "execution_count": 24,
   "id": "4a00d3d5",
   "metadata": {},
   "outputs": [
    {
     "data": {
      "text/plain": [
       "<Axes: >"
      ]
     },
     "execution_count": 24,
     "metadata": {},
     "output_type": "execute_result"
    },
    {
     "data": {
      "image/png": "[encoded data removed]",
      "text/plain": [
       "<Figure size 640x480 with 1 Axes>"
      ]
     },
     "metadata": {},
     "output_type": "display_data"
    }
   ],
   "source": [
    "sns.boxplot(data['Diagnosis Age']) # boxplot for Age"
   ]
  },
  {
   "cell_type": "code",
   "execution_count": 25,
   "id": "3a3ccbc3",
   "metadata": {},
   "outputs": [
    {
     "data": {
      "text/plain": [
       "<Axes: xlabel='Mutation Count', ylabel='Count'>"
      ]
     },
     "execution_count": 25,
     "metadata": {},
     "output_type": "execute_result"
    },
    {
     "data": {
      "image/png": "[encoded data removed]",
      "text/plain": [
       "<Figure size 640x480 with 1 Axes>"
      ]
     },
     "metadata": {},
     "output_type": "display_data"
    }
   ],
   "source": [
    "sns.histplot(data['Mutation Count']) # histogram plot for Mutation Count"
   ]
  },
  {
   "cell_type": "code",
   "execution_count": 30,
   "id": "85226ea8",
   "metadata": {},
   "outputs": [
    {
     "data": {
      "text/plain": [
       "<Axes: >"
      ]
     },
     "execution_count": 30,
     "metadata": {},
     "output_type": "execute_result"
    },
    {
     "data": {
      "image/png": "[encoded data removed]",
      "text/plain": [
       "<Figure size 640x480 with 1 Axes>"
      ]
     },
     "metadata": {},
     "output_type": "display_data"
    }
   ],
   "source": [
    "sns.boxplot(data['Mutation Count']) # boxplot for Mutation Count"
   ]
  },
  {
   "cell_type": "code",
   "execution_count": 26,
   "id": "620f6584",
   "metadata": {},
   "outputs": [
    {
     "data": {
      "text/plain": [
       "<Axes: xlabel='Fraction Genome Altered', ylabel='Count'>"
      ]
     },
     "execution_count": 26,
     "metadata": {},
     "output_type": "execute_result"
    },
    {
     "data": {
      "image/png": "[encoded data removed]",
      "text/plain": [
       "<Figure size 640x480 with 1 Axes>"
      ]
     },
     "metadata": {},
     "output_type": "display_data"
    }
   ],
   "source": [
    "sns.histplot(data['Fraction Genome Altered']) # histogram plot for Fraction Genome Altered"
   ]
  },
  {
   "cell_type": "code",
   "execution_count": 32,
   "id": "1512a1e7",
   "metadata": {},
   "outputs": [
    {
     "data": {
      "text/plain": [
       "<Axes: >"
      ]
     },
     "execution_count": 32,
     "metadata": {},
     "output_type": "execute_result"
    },
    {
     "data": {
      "image/png": "[encoded data removed]",
      "text/plain": [
       "<Figure size 640x480 with 1 Axes>"
      ]
     },
     "metadata": {},
     "output_type": "display_data"
    }
   ],
   "source": [
    "sns.boxplot(data['Fraction Genome Altered']) # boxplot for Fraction Genome Altered"
   ]
  },
  {
   "cell_type": "code",
   "execution_count": 28,
   "id": "e02df988",
   "metadata": {},
   "outputs": [
    {
     "data": {
      "text/plain": [
       "<Axes: xlabel='MSI MANTIS Score', ylabel='Count'>"
      ]
     },
     "execution_count": 28,
     "metadata": {},
     "output_type": "execute_result"
    },
    {
     "data": {
      "image/png": "[encoded data removed]",
      "text/plain": [
       "<Figure size 640x480 with 1 Axes>"
      ]
     },
     "metadata": {},
     "output_type": "display_data"
    }
   ],
   "source": [
    "sns.histplot(data['MSI MANTIS Score']) # histogram plot for MSI MANTIS Score "
   ]
  },
  {
   "cell_type": "code",
   "execution_count": 33,
   "id": "2b359cab",
   "metadata": {},
   "outputs": [
    {
     "data": {
      "text/plain": [
       "<Axes: >"
      ]
     },
     "execution_count": 33,
     "metadata": {},
     "output_type": "execute_result"
    },
    {
     "data": {
      "image/png": "[encoded data removed]",
      "text/plain": [
       "<Figure size 640x480 with 1 Axes>"
      ]
     },
     "metadata": {},
     "output_type": "display_data"
    }
   ],
   "source": [
    "sns.boxplot(data['MSI MANTIS Score']) # boxplot for MSI MANTIS Score"
   ]
  },
  {
   "cell_type": "code",
   "execution_count": 29,
   "id": "2b103601",
   "metadata": {},
   "outputs": [
    {
     "data": {
      "text/plain": [
       "<Axes: xlabel='MSIsensor Score', ylabel='Count'>"
      ]
     },
     "execution_count": 29,
     "metadata": {},
     "output_type": "execute_result"
    },
    {
     "data": {
      "image/png": "[encoded data removed]",
      "text/plain": [
       "<Figure size 640x480 with 1 Axes>"
      ]
     },
     "metadata": {},
     "output_type": "display_data"
    }
   ],
   "source": [
    "sns.histplot(data['MSIsensor Score']) # histogram plot for MSIsensor Score"
   ]
  },
  {
   "cell_type": "code",
   "execution_count": 34,
   "id": "46fe3b0c",
   "metadata": {},
   "outputs": [
    {
     "data": {
      "text/plain": [
       "<Axes: >"
      ]
     },
     "execution_count": 34,
     "metadata": {},
     "output_type": "execute_result"
    },
    {
     "data": {
      "image/png": "[encoded data removed]",
      "text/plain": [
       "<Figure size 640x480 with 1 Axes>"
      ]
     },
     "metadata": {},
     "output_type": "display_data"
    }
   ],
   "source": [
    "sns.boxplot(data['MSIsensor Score']) # boxplot for MSIsensor Score"
   ]
  }
 ],
 "metadata": {
  "kernelspec": {
   "display_name": "Python 3 (ipykernel)",
   "language": "python",
   "name": "python3"
  },
  "language_info": {
   "codemirror_mode": {
    "name": "ipython",
    "version": 3
   },
   "file_extension": ".py",
   "mimetype": "text/x-python",
   "name": "python",
   "nbconvert_exporter": "python",
   "pygments_lexer": "ipython3",
   "version": "3.11.5"
  }
 },
 "nbformat": 4,
 "nbformat_minor": 5
}
